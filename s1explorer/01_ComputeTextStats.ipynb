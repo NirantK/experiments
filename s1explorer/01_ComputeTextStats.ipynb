{
 "cells": [
  {
   "cell_type": "code",
   "execution_count": null,
   "metadata": {},
   "outputs": [],
   "source": [
    "%load_ext autoreload\n",
    "%autoreload 2\n",
    "from collections import Counter\n",
    "from pathlib import Path\n",
    "\n",
    "import spacy\n",
    "\n",
    "Path.ls = lambda x: list(x.iterdir())"
   ]
  },
  {
   "cell_type": "code",
   "execution_count": null,
   "metadata": {},
   "outputs": [],
   "source": [
    "# !python -m pip install spacy\n",
    "# !python -m spacy download en_core_web_sm\n",
    "def get_raw_text(filepath: str):\n",
    "    with Path(filepath).open(\"r\") as f:\n",
    "        plaintext = f.read()\n",
    "    return str(plaintext)"
   ]
  },
  {
   "cell_type": "code",
   "execution_count": null,
   "metadata": {},
   "outputs": [],
   "source": [
    "nlp = spacy.load(\"en_core_web_sm\")\n",
    "nlp.max_length = 1.1*1341865 # allow greater memory consumption\n",
    "\n",
    "plaintext = get_raw_text(\"airbnb.txt\")\n",
    "# custom_stop_words = [\"$\", \"\\n\", \"common\", \"Class\", \"2020\", \"2019\", \"million\", \"shares\", \"Company\", \"business\"]\n",
    "# for word in custom_stop_words:\n",
    "#     nlp.Defaults.stop_words.add(word)\n",
    "%time doc = nlp(plaintext)"
   ]
  },
  {
   "cell_type": "code",
   "execution_count": null,
   "metadata": {},
   "outputs": [],
   "source": [
    "# all tokens that arent stop words or punctuations\n",
    "words = [token.text for token in doc if not token.is_stop and not token.is_punct and not token.is_digit]\n",
    "\n",
    "# noun tokens that arent stop words or punctuations\n",
    "nouns = [\n",
    "    token.text\n",
    "    for token in doc\n",
    "    if not token.is_stop and not token.is_punct and not token.is_digit and token.pos_ == \"NOUN\"\n",
    "]\n"
   ]
  },
  {
   "cell_type": "code",
   "execution_count": null,
   "metadata": {},
   "outputs": [],
   "source": [
    "experiment = [{\"word\": k, \"count\": v} for (k, v) in common_nouns]\n",
    "experiment"
   ]
  },
  {
   "cell_type": "code",
   "execution_count": null,
   "metadata": {},
   "outputs": [],
   "source": [
    "noun_freq.most_common()"
   ]
  },
  {
   "cell_type": "code",
   "execution_count": null,
   "metadata": {},
   "outputs": [],
   "source": [
    "common_words, common_nouns"
   ]
  },
  {
   "cell_type": "code",
   "execution_count": null,
   "metadata": {},
   "outputs": [],
   "source": [
    "import fasttext"
   ]
  },
  {
   "cell_type": "code",
   "execution_count": null,
   "metadata": {},
   "outputs": [],
   "source": [
    "# Skipgram model :\n",
    "model = fasttext.train_unsupervised('data.txt', model='skipgram')\n",
    "\n",
    "# or, cbow model :\n",
    "model = fasttext.train_unsupervised('data.txt', model='cbow')"
   ]
  }
 ],
 "metadata": {
  "kernelspec": {
   "display_name": "Python 3",
   "language": "python",
   "name": "python3"
  }
 },
 "nbformat": 4,
 "nbformat_minor": 4
}
