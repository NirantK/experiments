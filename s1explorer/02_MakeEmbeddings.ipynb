{
 "cells": [
  {
   "cell_type": "code",
   "execution_count": 8,
   "metadata": {},
   "outputs": [
    {
     "name": "stdout",
     "output_type": "stream",
     "text": [
      "The autoreload extension is already loaded. To reload it, use:\n",
      "  %reload_ext autoreload\n"
     ]
    }
   ],
   "source": [
    "%load_ext autoreload\n",
    "%autoreload 2\n",
    "from collections import Counter\n",
    "from pathlib import Path\n",
    "\n",
    "import fasttext\n",
    "import spacy\n",
    "\n",
    "Path.ls = lambda x: list(x.iterdir())"
   ]
  },
  {
   "cell_type": "markdown",
   "metadata": {},
   "source": [
    "## Train Model"
   ]
  },
  {
   "cell_type": "code",
   "execution_count": 9,
   "metadata": {
    "code_folding": [
     0
    ]
   },
   "outputs": [],
   "source": [
    "# !python -m pip install spacy\n",
    "# !python -m spacy download en_core_web_sm"
   ]
  },
  {
   "cell_type": "code",
   "execution_count": 10,
   "metadata": {
    "code_folding": []
   },
   "outputs": [
    {
     "name": "stdout",
     "output_type": "stream",
     "text": [
      "CPU times: user 28.6 s, sys: 6.42 s, total: 35 s\n",
      "Wall time: 36.7 s\n"
     ]
    }
   ],
   "source": [
    "def get_raw_text(filepath: str):\n",
    "    with Path(filepath).open(\"r\") as f:\n",
    "        plaintext = f.read()\n",
    "    return str(plaintext)\n",
    "\n",
    "nlp = spacy.load(\"en_core_web_sm\")\n",
    "nlp.max_length = 1.1*1341865 # allow greater memory consumption\n",
    "\n",
    "plaintext = get_raw_text(\"airbnb.txt\")\n",
    "custom_stop_words = [\"$\", \"\\n\", \"common\"] \n",
    "# \"Class\", \"2020\", \"2019\", \"million\", \"shares\", \"Company\", \"business\"]\n",
    "for word in custom_stop_words:\n",
    "    nlp.Defaults.stop_words.add(word)\n",
    "%time doc = nlp(plaintext)"
   ]
  },
  {
   "cell_type": "code",
   "execution_count": 11,
   "metadata": {
    "code_folding": []
   },
   "outputs": [],
   "source": [
    "words = [token.lemma_.lower() for token in doc if not token.is_punct and not token.is_digit and len(token)>1]\n",
    "words = \" \".join(words)\n",
    "with open(\"stripped_airbnb.txt\", \"w\") as f:\n",
    "    f.write(words)\n",
    "model = fasttext.train_unsupervised(\"stripped_airbnb.txt\")\n",
    "model.save_model(\"lemma_stripped_airbnb.bin\")"
   ]
  },
  {
   "cell_type": "code",
   "execution_count": 12,
   "metadata": {},
   "outputs": [
    {
     "name": "stderr",
     "output_type": "stream",
     "text": [
      "Warning : `load_model` does not return WordVectorModel or SupervisedModel any more, but a `FastText` object which is very similar.\n"
     ]
    }
   ],
   "source": [
    "model = fasttext.load_model(\"lemma_stripped_airbnb.bin\")"
   ]
  }
 ],
 "metadata": {
  "kernelspec": {
   "display_name": "Python 3",
   "language": "python",
   "name": "python3"
  },
  "language_info": {
   "codemirror_mode": {
    "name": "ipython",
    "version": 3
   },
   "file_extension": ".py",
   "mimetype": "text/x-python",
   "name": "python",
   "nbconvert_exporter": "python",
   "pygments_lexer": "ipython3",
   "version": "3.6.12"
  }
 },
 "nbformat": 4,
 "nbformat_minor": 4
}
