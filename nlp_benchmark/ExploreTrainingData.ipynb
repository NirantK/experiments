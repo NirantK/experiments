{
 "cells": [
  {
   "cell_type": "code",
   "execution_count": 30,
   "metadata": {},
   "outputs": [],
   "source": [
    "# !conda install -c conda-forge -y pandas-profiling"
   ]
  },
  {
   "cell_type": "code",
   "execution_count": 32,
   "metadata": {},
   "outputs": [],
   "source": [
    "import pandas as pd"
   ]
  },
  {
   "cell_type": "code",
   "execution_count": 33,
   "metadata": {},
   "outputs": [],
   "source": [
    "df = pd.read_json(\"training_data.json\")"
   ]
  },
  {
   "cell_type": "code",
   "execution_count": 34,
   "metadata": {},
   "outputs": [],
   "source": [
    "with open(\"training_data.json\", \"r\") as f:\n",
    "    fileinfo = json.load(f)"
   ]
  },
  {
   "cell_type": "code",
   "execution_count": 35,
   "metadata": {},
   "outputs": [],
   "source": [
    "df = pd.DataFrame(fileinfo[\"rasa_nlu_data\"][\"common_examples\"])"
   ]
  },
  {
   "cell_type": "code",
   "execution_count": 44,
   "metadata": {},
   "outputs": [
    {
     "data": {
      "text/html": [
       "<div>\n",
       "<style scoped>\n",
       "    .dataframe tbody tr th:only-of-type {\n",
       "        vertical-align: middle;\n",
       "    }\n",
       "\n",
       "    .dataframe tbody tr th {\n",
       "        vertical-align: top;\n",
       "    }\n",
       "\n",
       "    .dataframe thead th {\n",
       "        text-align: right;\n",
       "    }\n",
       "</style>\n",
       "<table border=\"1\" class=\"dataframe\">\n",
       "  <thead>\n",
       "    <tr style=\"text-align: right;\">\n",
       "      <th></th>\n",
       "      <th>text</th>\n",
       "      <th>intent</th>\n",
       "      <th>entities</th>\n",
       "    </tr>\n",
       "  </thead>\n",
       "  <tbody>\n",
       "    <tr>\n",
       "      <th>0</th>\n",
       "      <td>brijeshlakkad@gmail.com</td>\n",
       "      <td>Banking_Email</td>\n",
       "      <td>NaN</td>\n",
       "    </tr>\n",
       "    <tr>\n",
       "      <th>1</th>\n",
       "      <td>brijeshlakkad@gmail.com</td>\n",
       "      <td>Banking_Email</td>\n",
       "      <td>NaN</td>\n",
       "    </tr>\n",
       "    <tr>\n",
       "      <th>2</th>\n",
       "      <td>brijeshlakkad@gmail.com</td>\n",
       "      <td>Banking_Email</td>\n",
       "      <td>NaN</td>\n",
       "    </tr>\n",
       "    <tr>\n",
       "      <th>3</th>\n",
       "      <td>123456</td>\n",
       "      <td>Banking_Password</td>\n",
       "      <td>NaN</td>\n",
       "    </tr>\n",
       "    <tr>\n",
       "      <th>4</th>\n",
       "      <td>12345</td>\n",
       "      <td>Banking_Password</td>\n",
       "      <td>NaN</td>\n",
       "    </tr>\n",
       "    <tr>\n",
       "      <th>...</th>\n",
       "      <td>...</td>\n",
       "      <td>...</td>\n",
       "      <td>...</td>\n",
       "    </tr>\n",
       "    <tr>\n",
       "      <th>30108</th>\n",
       "      <td>provide status of card application</td>\n",
       "      <td>Banking_Get_Card_Request_Status</td>\n",
       "      <td>[]</td>\n",
       "    </tr>\n",
       "    <tr>\n",
       "      <th>30109</th>\n",
       "      <td>assist me to get status my of card application</td>\n",
       "      <td>Banking_Get_Card_Request_Status</td>\n",
       "      <td>[]</td>\n",
       "    </tr>\n",
       "    <tr>\n",
       "      <th>30110</th>\n",
       "      <td>help me to get status my of card application</td>\n",
       "      <td>Banking_Get_Card_Request_Status</td>\n",
       "      <td>[]</td>\n",
       "    </tr>\n",
       "    <tr>\n",
       "      <th>30111</th>\n",
       "      <td>assist me to get status of card application</td>\n",
       "      <td>Banking_Get_Card_Request_Status</td>\n",
       "      <td>[]</td>\n",
       "    </tr>\n",
       "    <tr>\n",
       "      <th>30112</th>\n",
       "      <td>help me to get status of card application</td>\n",
       "      <td>Banking_Get_Card_Request_Status</td>\n",
       "      <td>[]</td>\n",
       "    </tr>\n",
       "  </tbody>\n",
       "</table>\n",
       "<p>30113 rows × 3 columns</p>\n",
       "</div>"
      ],
      "text/plain": [
       "                                                 text  \\\n",
       "0                             brijeshlakkad@gmail.com   \n",
       "1                             brijeshlakkad@gmail.com   \n",
       "2                             brijeshlakkad@gmail.com   \n",
       "3                                              123456   \n",
       "4                                               12345   \n",
       "...                                               ...   \n",
       "30108              provide status of card application   \n",
       "30109  assist me to get status my of card application   \n",
       "30110    help me to get status my of card application   \n",
       "30111     assist me to get status of card application   \n",
       "30112       help me to get status of card application   \n",
       "\n",
       "                                intent entities  \n",
       "0                        Banking_Email      NaN  \n",
       "1                        Banking_Email      NaN  \n",
       "2                        Banking_Email      NaN  \n",
       "3                     Banking_Password      NaN  \n",
       "4                     Banking_Password      NaN  \n",
       "...                                ...      ...  \n",
       "30108  Banking_Get_Card_Request_Status       []  \n",
       "30109  Banking_Get_Card_Request_Status       []  \n",
       "30110  Banking_Get_Card_Request_Status       []  \n",
       "30111  Banking_Get_Card_Request_Status       []  \n",
       "30112  Banking_Get_Card_Request_Status       []  \n",
       "\n",
       "[30113 rows x 3 columns]"
      ]
     },
     "execution_count": 44,
     "metadata": {},
     "output_type": "execute_result"
    }
   ],
   "source": [
    "df"
   ]
  },
  {
   "cell_type": "code",
   "execution_count": 40,
   "metadata": {},
   "outputs": [
    {
     "data": {
      "text/plain": [
       "brijeshlakkad@gmail.com                                                                          3\n",
       "ok                                                                                               3\n",
       "I have lost my credit card and I want to deactivate it                                           2\n",
       "update addr                                                                                      2\n",
       "can you please update present address                                                            2\n",
       "                                                                                                ..\n",
       "I want someone to help me search recent activity and summary for every activity of my account    1\n",
       "Where to show 4 my a/c activity history for accounts?                                            1\n",
       "Where to search activity history for a/c?                                                        1\n",
       "please can you help me to get my master card charges                                             1\n",
       "Bye bye                                                                                          1\n",
       "Name: text, Length: 29875, dtype: int64"
      ]
     },
     "execution_count": 40,
     "metadata": {},
     "output_type": "execute_result"
    }
   ],
   "source": [
    "df.text.value_counts()"
   ]
  },
  {
   "cell_type": "code",
   "execution_count": 45,
   "metadata": {},
   "outputs": [
    {
     "data": {
      "text/plain": [
       "44"
      ]
     },
     "execution_count": 45,
     "metadata": {},
     "output_type": "execute_result"
    }
   ],
   "source": [
    "len(df.intent.value_counts())"
   ]
  },
  {
   "cell_type": "code",
   "execution_count": 43,
   "metadata": {},
   "outputs": [
    {
     "ename": "TypeError",
     "evalue": "unhashable type: 'list'",
     "output_type": "error",
     "traceback": [
      "\u001b[0;31m---------------------------------------------------------------------------\u001b[0m",
      "\u001b[0;31mTypeError\u001b[0m                                 Traceback (most recent call last)",
      "\u001b[0;32mpandas/_libs/hashtable_class_helper.pxi\u001b[0m in \u001b[0;36mpandas._libs.hashtable.PyObjectHashTable.map_locations\u001b[0;34m()\u001b[0m\n",
      "\u001b[0;31mTypeError\u001b[0m: unhashable type: 'list'"
     ]
    },
    {
     "name": "stderr",
     "output_type": "stream",
     "text": [
      "Exception ignored in: 'pandas._libs.index.IndexEngine._call_map_locations'\n",
      "Traceback (most recent call last):\n",
      "  File \"pandas/_libs/hashtable_class_helper.pxi\", line 1709, in pandas._libs.hashtable.PyObjectHashTable.map_locations\n",
      "TypeError: unhashable type: 'list'\n"
     ]
    },
    {
     "data": {
      "text/plain": [
       "[]                                                                                  21388\n",
       "[{'end': 15, 'entity': 'num_trans', 'start': 14, 'value': '3'}]                        63\n",
       "[{'end': 1, 'entity': 'num_trans', 'start': 0, 'value': '3'}]                          49\n",
       "[{'end': 16, 'entity': 'num_trans', 'start': 14, 'value': '12'}]                       48\n",
       "[{'end': 15, 'entity': 'num_trans', 'start': 14, 'value': '1'}]                        44\n",
       "                                                                                    ...  \n",
       "[{'end': 51, 'entity': 'to_change', 'start': 37, 'value': 'account number'}]            1\n",
       "[{'end': 48, 'entity': 'num_trans', 'start': 47, 'value': '7'}]                         1\n",
       "[{'end': 58, 'entity': 'to_change', 'start': 40, 'value': 'registered mail id'}]        1\n",
       "[{'end': 53, 'entity': 'to_change', 'start': 40, 'value': 'email address'}]             1\n",
       "[{'end': 22, 'entity': 'to_change', 'start': 8, 'value': 'permenant addr'}]             1\n",
       "Name: entities, Length: 1950, dtype: int64"
      ]
     },
     "execution_count": 43,
     "metadata": {},
     "output_type": "execute_result"
    }
   ],
   "source": [
    "df.entities.value_counts()"
   ]
  }
 ],
 "metadata": {
  "kernelspec": {
   "display_name": "Python 3",
   "language": "python",
   "name": "python3"
  },
  "language_info": {
   "codemirror_mode": {
    "name": "ipython",
    "version": 3
   },
   "file_extension": ".py",
   "mimetype": "text/x-python",
   "name": "python",
   "nbconvert_exporter": "python",
   "pygments_lexer": "ipython3",
   "version": "3.7.9"
  }
 },
 "nbformat": 4,
 "nbformat_minor": 4
}