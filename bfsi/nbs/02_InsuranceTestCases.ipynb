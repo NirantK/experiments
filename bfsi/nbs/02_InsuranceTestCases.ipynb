{
 "cells": [
  {
   "cell_type": "code",
   "execution_count": null,
   "metadata": {},
   "outputs": [],
   "source": [
    "import checklist\n",
    "import numpy as np\n",
    "import spacy\n",
    "from checklist.editor import Editor\n",
    "editor = Editor()"
   ]
  },
  {
   "cell_type": "code",
   "execution_count": null,
   "metadata": {},
   "outputs": [],
   "source": [
    "insurance_type = [\"travel\", \"motor\", \"life\", \"term\", \"health/medicare\", \"disability\", \"renters\", \"home\", \"housing\", \"long term care\", \"property\"]\n",
    "insurance_action = [\"renew\", \"buy\", \"compare\", \"find\", \"claim status\", \"file claim\", \"request quote\", \"quote\"]\n",
    "insurance_names = [\"coverage\", \"insurance\", \"policy\", \"insurance policy\"]\n",
    "change_synonyms = ['change', 'provide', 'clarify', 'update', 'confirm', 'check', 'reset']\n",
    "insurance_information = [\"maturity policy\", \"policy\", \"returns\", \"maturity terms\", \"date\"]\n",
    "policy_terms = [x.lower() for x in [\"premium\",\"Actual cash value (ACV)\",\"Agreed value\",\"Stated Value\",\"renewal\",\"Expiry\",\"Maturity\",\"Maturity amount\",\"beneficiary\",\"Deductible\",\"Exclusion\",\"Lapse\",\"Mitigation\",\"Lien\"]]\n",
    "client_credentials = [\"phone number\", \"address\", \"form details\", \"contact\", \"mobile number\", \"email\", \"email id\"]\n",
    "coverage_types = [\"Comprehensive\",\"Collision\",\"Natural Calamity\",\"Bodily Injury\",\"Medical Payments\",\"Riot\",\"Theft\"]"
   ]
  },
  {
   "cell_type": "code",
   "execution_count": null,
   "metadata": {},
   "outputs": [],
   "source": [
    "INFORM_INTENT = \"give_info\"\n",
    "REQUEST_INFO_INTENT = \"ask_for_info\"\n",
    "\n",
    "template_info = [\n",
    "    {\"templates\":\"{mask} {mask} {verb:insurance_action} for {insurance_type} {insurance_names} {mask}\", \"labels\": REQUEST_INFO_INTENT},\n",
    "    {\"templates\":\"{verb:insurance_action} {mask} to {insurance_type} {insurance_names}\", \"labels\":REQUEST_INFO_INTENT},\n",
    "    {\"templates\":\"I want to {mask} {p1:policy_terms} of {insurance_type} {insurance_names}\",\"labels\": \"ASK_DEEPAK\"},\n",
    "    {\"templates\":\"When {mask} {mask} {insurance_names} mature?\",\"labels\": REQUEST_INFO_INTENT},\n",
    "    {\"templates\":\"I {mask} to file {mask} {mask} {insurance_type} {insurance_names} claim\",\"labels\": REQUEST_INFO_INTENT},\n",
    "    {\"templates\":\"What {mask} {mask} my claim status?\",\"labels\": REQUEST_INFO_INTENT},\n",
    "    {\"templates\":\"{mask} {policy_terms} {insurance_names}\",\"labels\": REQUEST_INFO_INTENT},\n",
    "    {\"templates\":\"{change_synonyms} {client_credentials} and {mask}\",\"labels\": INFORM_INTENT},\n",
    "    {\"templates\":\"{change_synonyms} {mask} {client_credentials}\",\"labels\": INFORM_INTENT},\n",
    "    {\"templates\":\"{mask} to {change_synonyms} my communication {client_credentials}\",\"labels\": INFORM_INTENT},\n",
    "]"
   ]
  },
  {
   "cell_type": "code",
   "execution_count": null,
   "metadata": {},
   "outputs": [],
   "source": [
    "def get_insurance_generations(template, nsamples=10):\n",
    "    return editor.template(\n",
    "        **template,\n",
    "        insurance_type=insurance_type,\n",
    "        insurance_action=insurance_action,\n",
    "        insurance_names=insurance_names,\n",
    "        policy_terms=policy_terms,\n",
    "        change_synonyms=change_synonyms,\n",
    "        client_credentials=client_credentials,\n",
    "        remove_duplicates=True,\n",
    "        nsamples=nsamples,\n",
    "        meta=True,\n",
    "    )\n",
    "\n",
    "\n",
    "filled_in_info = get_insurance_generations(template_info[1], nsamples=10)\n",
    "filled_in_info.data, filled_in_info.meta, filled_in_info.labels"
   ]
  }
 ],
 "metadata": {
  "kernelspec": {
   "display_name": "Python 3",
   "language": "python",
   "name": "python3"
  }
 },
 "nbformat": 4,
 "nbformat_minor": 4
}
