{
 "cells": [
  {
   "cell_type": "code",
   "execution_count": 1,
   "metadata": {},
   "outputs": [],
   "source": [
    "import checklist\n",
    "import numpy as np\n",
    "import spacy\n",
    "from checklist.editor import Editor\n",
    "editor = Editor()"
   ]
  },
  {
   "cell_type": "code",
   "execution_count": 2,
   "metadata": {},
   "outputs": [],
   "source": [
    "insurance_type = [\"travel\", \"motor\", \"life\", \"term\", \"health/medicare\", \"disability\", \"renters\", \"home\", \"housing\", \"long term care\", \"property\"]\n",
    "insurance_action = [\"renew\", \"buy\", \"compare\", \"find\", \"claim status\", \"file claim\", \"request quote\", \"quote\"]\n",
    "insurance_names = [\"coverage\", \"insurance\", \"policy\", \"insurance policy\"]\n",
    "change_synonyms = ['change', 'provide', 'clarify', 'update', 'confirm', 'check', 'reset']\n",
    "insurance_information = [\"maturity policy\", \"policy\", \"returns\", \"maturity terms\", \"date\"]\n",
    "policy_terms = [x.lower() for x in [\"premium\",\"Actual cash value (ACV)\",\"Agreed value\",\"Stated Value\",\"renewal\",\"Expiry\",\"Maturity\",\"Maturity amount\",\"beneficiary\",\"Deductible\",\"Exclusion\",\"Lapse\",\"Mitigation\",\"Lien\"]]\n",
    "client_credentials = [\"phone number\", \"address\", \"form details\", \"contact\", \"mobile number\", \"email\", \"email id\"]\n",
    "coverage_types = [\"Comprehensive\",\"Collision\",\"Natural Calamity\",\"Bodily Injury\",\"Medical Payments\",\"Riot\",\"Theft\"]"
   ]
  },
  {
   "cell_type": "code",
   "execution_count": 3,
   "metadata": {},
   "outputs": [],
   "source": [
    "template_info = [\n",
    "    {\"templates\":\"{mask} {mask} {verb:insurance_action} for {insurance_type} {insurance_names} {mask}\", \"labels\": \"ask_for_info\"},\n",
    "    {\"templates\":\"{verb:insurance_action} {mask} to {insurance_type} {insurance_names}\", \"labels\":\"ask_for_info\"},\n",
    "    {\"templates\":\"I want to {mask} {p1:policy_terms} of {insurance_type} {insurance_names}\",\"labels\": \"ASK_DEEPAK\"},\n",
    "    {\"templates\":\"When {mask} {mask} {insurance_names} mature?\",\"labels\": \"ask_for_info\"},\n",
    "    {\"templates\":\"I {mask} to file {mask} {mask} {insurance_type} {insurance_names} claim\",\"labels\": \"ask_for_info\"},\n",
    "    {\"templates\":\"What {mask} {mask} my claim status?\",\"labels\": \"ask_for_info\"},\n",
    "    {\"templates\":\"{mask} {policy_terms} {insurance_names}\",\"labels\": \"ask_for_info\"},\n",
    "    {\"templates\":\"{change_synonyms} {client_credentials} and {mask}\",\"labels\": \"give_info\"},\n",
    "    {\"templates\":\"{change_synonyms} {mask} {client_credentials}\",\"labels\": \"give_info\"},\n",
    "    {\"templates\":\"{mask} to {change_synonyms} my communication {client_credentials}\",\"labels\": \"give_info\"},\n",
    "]"
   ]
  },
  {
   "cell_type": "code",
   "execution_count": 4,
   "metadata": {},
   "outputs": [
    {
     "name": "stderr",
     "output_type": "stream",
     "text": [
      "Some weights of RobertaForMaskedLM were not initialized from the model checkpoint at roberta-base and are newly initialized: ['lm_head.decoder.bias']\n",
      "You should probably TRAIN this model on a down-stream task to be able to use it for predictions and inference.\n"
     ]
    },
    {
     "data": {
      "text/plain": [
       "(['buy change to term insurance',\n",
       "  'quote directly to property policy',\n",
       "  'request quote right to long term care insurance',\n",
       "  'renew new to housing insurance',\n",
       "  'request quote in to home coverage',\n",
       "  'file claim relevant to term coverage',\n",
       "  'buy it to renters insurance',\n",
       "  'buy payable to disability coverage',\n",
       "  'quote unique to motor coverage',\n",
       "  'quote party to long term care insurance'],\n",
       " [{'insurance_action': 'buy',\n",
       "   'insurance_names': 'insurance',\n",
       "   'insurance_type': 'term',\n",
       "   'mask': ['change']},\n",
       "  {'insurance_action': 'quote',\n",
       "   'insurance_names': 'policy',\n",
       "   'insurance_type': 'property',\n",
       "   'mask': ['directly']},\n",
       "  {'insurance_action': 'request quote',\n",
       "   'insurance_names': 'insurance',\n",
       "   'insurance_type': 'long term care',\n",
       "   'mask': ['right']},\n",
       "  {'insurance_action': 'renew',\n",
       "   'insurance_names': 'insurance',\n",
       "   'insurance_type': 'housing',\n",
       "   'mask': ['new']},\n",
       "  {'insurance_action': 'request quote',\n",
       "   'insurance_names': 'coverage',\n",
       "   'insurance_type': 'home',\n",
       "   'mask': ['in']},\n",
       "  {'insurance_action': 'file claim',\n",
       "   'insurance_names': 'coverage',\n",
       "   'insurance_type': 'term',\n",
       "   'mask': ['relevant']},\n",
       "  {'insurance_action': 'buy',\n",
       "   'insurance_names': 'insurance',\n",
       "   'insurance_type': 'renters',\n",
       "   'mask': ['it']},\n",
       "  {'insurance_action': 'buy',\n",
       "   'insurance_names': 'coverage',\n",
       "   'insurance_type': 'disability',\n",
       "   'mask': ['payable']},\n",
       "  {'insurance_action': 'quote',\n",
       "   'insurance_names': 'coverage',\n",
       "   'insurance_type': 'motor',\n",
       "   'mask': ['unique']},\n",
       "  {'insurance_action': 'quote',\n",
       "   'insurance_names': 'insurance',\n",
       "   'insurance_type': 'long term care',\n",
       "   'mask': ['party']}],\n",
       " ['ask_for_info',\n",
       "  'ask_for_info',\n",
       "  'ask_for_info',\n",
       "  'ask_for_info',\n",
       "  'ask_for_info',\n",
       "  'ask_for_info',\n",
       "  'ask_for_info',\n",
       "  'ask_for_info',\n",
       "  'ask_for_info',\n",
       "  'ask_for_info'])"
      ]
     },
     "execution_count": 4,
     "metadata": {},
     "output_type": "execute_result"
    }
   ],
   "source": [
    "def get_insurance_generations(template, nsamples=10):\n",
    "    return editor.template(\n",
    "        **template,\n",
    "        insurance_type=insurance_type,\n",
    "        insurance_action=insurance_action,\n",
    "        insurance_names=insurance_names,\n",
    "        policy_terms=policy_terms,\n",
    "        change_synonyms=change_synonyms,\n",
    "        client_credentials=client_credentials,\n",
    "        remove_duplicates=True,\n",
    "        nsamples=nsamples,\n",
    "        meta=True,\n",
    "    )\n",
    "\n",
    "\n",
    "filled_in_info = get_insurance_generations(template_info[1], nsamples=10)\n",
    "filled_in_info.data, filled_in_info.meta, filled_in_info.labels"
   ]
  }
 ],
 "metadata": {
  "kernelspec": {
   "display_name": "Python 3",
   "language": "python",
   "name": "python3"
  },
  "language_info": {
   "codemirror_mode": {
    "name": "ipython",
    "version": 3
   },
   "file_extension": ".py",
   "mimetype": "text/x-python",
   "name": "python",
   "nbconvert_exporter": "python",
   "pygments_lexer": "ipython3",
   "version": "3.6.12"
  }
 },
 "nbformat": 4,
 "nbformat_minor": 4
}
