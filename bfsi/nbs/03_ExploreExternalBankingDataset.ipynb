{
 "cells": [
  {
   "cell_type": "code",
   "execution_count": null,
   "metadata": {},
   "outputs": [],
   "source": [
    "from pathlib import Path\n",
    "\n",
    "import numpy as np\n",
    "import pandas as pd\n",
    "from fuzzywuzzy import fuzzo"
   ]
  },
  {
   "cell_type": "code",
   "execution_count": null,
   "metadata": {},
   "outputs": [],
   "source": [
    "# data checks\n",
    "banking_datapath = Path(\"../data/training_data.json\")\n",
    "assert banking_datapath.exists()\n",
    "\n",
    "# read data\n",
    "with banking_datapath.open(\"r\") as f:\n",
    "    fileinfo = json.load(f)"
   ]
  },
  {
   "cell_type": "code",
   "execution_count": null,
   "metadata": {},
   "outputs": [],
   "source": [
    "df = pd.DataFrame(fileinfo[\"rasa_nlu_data\"][\"common_examples\"])"
   ]
  },
  {
   "cell_type": "code",
   "execution_count": null,
   "metadata": {},
   "outputs": [],
   "source": [
    "intent_counts = dict(df.intent.value_counts()); intent_counts"
   ]
  },
  {
   "cell_type": "code",
   "execution_count": null,
   "metadata": {},
   "outputs": [],
   "source": [
    "intent_text = df[df.intent == \"Banking_Change_Password\"].text.unique().tolist()\n",
    "intent_text += df[df.intent == \"Banking_Change_Address\"].text.unique().tolist()\n",
    "intent_text += df[df.intent == \"Banking_Change_Passcode\"].text.unique().tolist()\n",
    "intent_text += df[df.intent == \"Banking_Change_Contact\"].text.unique().tolist()\n",
    "intent_text += df[df.intent == \"Banking_Change_Username\"].text.unique().tolist()\n",
    "# intent_text += df[df.intent == \"Banking_Get_Address\"].text.unique().tolist()\n",
    "# intent_text += df[df.intent == \"Banking_Get_Email\"].text.unique().tolist()\n",
    "# intent_text += df[df.intent == \"Banking_Get_Contact\"].text.unique().tolist()\n",
    "# intent_text += df[df.intent == \"Banking_Get_Card_Number\"].text.unique().tolist()\n",
    "# intent_text += df[df.intent == \"Banking_Get_Username\"].text.unique().tolist()\n",
    "# intent_text += df[df.intent == \"Banking_Get_Card_Details\"].text.unique().tolist()\n",
    "with np.printoptions(threshold=np.inf):\n",
    "    print(intent_text)"
   ]
  },
  {
   "cell_type": "code",
   "execution_count": null,
   "metadata": {},
   "outputs": [],
   "source": [
    "len(intent_text)"
   ]
  },
  {
   "cell_type": "code",
   "execution_count": null,
   "metadata": {},
   "outputs": [],
   "source": [
    "uniques = [\"\"]\n",
    "for i in intent_text:\n",
    "    scores = []\n",
    "    for j in uniques:\n",
    "        scores.append(fuzz.ratio(i, j))\n",
    "    if max(scores) < 51:\n",
    "        print(f\"Found {len(uniques)} uniques so far\")\n",
    "        uniques.append(i)"
   ]
  },
  {
   "cell_type": "code",
   "execution_count": null,
   "metadata": {},
   "outputs": [],
   "source": [
    "uniques"
   ]
  }
 ],
 "metadata": {
  "kernelspec": {
   "display_name": "Python 3",
   "language": "python",
   "name": "python3"
  },
  "language_info": {
   "codemirror_mode": {
    "name": "ipython",
    "version": 3
   },
   "file_extension": ".py",
   "mimetype": "text/x-python",
   "name": "python",
   "nbconvert_exporter": "python",
   "pygments_lexer": "ipython3",
   "version": "3.6.12"
  }
 },
 "nbformat": 4,
 "nbformat_minor": 4
}
