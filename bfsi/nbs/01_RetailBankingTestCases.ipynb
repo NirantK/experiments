{
 "cells": [
  {
   "cell_type": "code",
   "execution_count": 27,
   "metadata": {},
   "outputs": [],
   "source": [
    "import random\n",
    "\n",
    "import checklist\n",
    "import numpy as np\n",
    "import spacy\n",
    "from checklist.editor import Editor\n",
    "\n",
    "editor = Editor()"
   ]
  },
  {
   "cell_type": "code",
   "execution_count": 3,
   "metadata": {},
   "outputs": [],
   "source": [
    "# !python -m spacy download en_core_web_sm"
   ]
  },
  {
   "cell_type": "code",
   "execution_count": 10,
   "metadata": {
    "code_folding": []
   },
   "outputs": [
    {
     "data": {
      "text/plain": [
       "dict_keys(['male', 'female', 'first_name', 'first_pronoun', 'last_name', 'country', 'nationality', 'city', 'religion', 'religion_adj', 'sexual_adj', 'country_city', 'male_from', 'female_from', 'last_from'])"
      ]
     },
     "execution_count": 10,
     "metadata": {},
     "output_type": "execute_result"
    }
   ],
   "source": [
    "# Custom Utils for this Notebook\n",
    "show_random = lambda ret: np.random.choice(ret.data, 3)\n",
    "editor.lexicons.keys()"
   ]
  },
  {
   "cell_type": "code",
   "execution_count": 5,
   "metadata": {
    "code_folding": []
   },
   "outputs": [
    {
     "data": {
      "text/plain": [
       "array(['Bobby is an accountant from Malawi.',\n",
       "       'Cynthia is a lawyer from Lithuania.',\n",
       "       'Ian is a lawyer from Chile.'], dtype='<U67')"
      ]
     },
     "execution_count": 5,
     "metadata": {},
     "output_type": "execute_result"
    }
   ],
   "source": [
    "# Checklist Example of Editor filled with Lexicon Values\n",
    "\n",
    "ret = editor.template('{first_name} is {a:profession} from {country}.',\n",
    "                       profession=['lawyer', 'doctor', 'accountant'])\n",
    "show_random(ret)"
   ]
  },
  {
   "cell_type": "code",
   "execution_count": 6,
   "metadata": {
    "code_folding": []
   },
   "outputs": [
    {
     "name": "stderr",
     "output_type": "stream",
     "text": [
      "Some weights of RobertaForMaskedLM were not initialized from the model checkpoint at roberta-base and are newly initialized: ['lm_head.decoder.bias']\n",
      "You should probably TRAIN this model on a down-stream task to be able to use it for predictions and inference.\n"
     ]
    },
    {
     "data": {
      "text/plain": [
       "array(['This is a bad song.', 'This is a bad test.',\n",
       "       'This is a good pick.'], dtype='<U32')"
      ]
     },
     "execution_count": 6,
     "metadata": {},
     "output_type": "execute_result"
    }
   ],
   "source": [
    "# Checklist Example of Editor filled with a BERT-based mask\n",
    "ret = editor.template('This is {a:adj} {mask}.',  \n",
    "                      adj=['good', 'bad', 'great', 'terrible'])\n",
    "show_random(ret)"
   ]
  },
  {
   "cell_type": "code",
   "execution_count": 202,
   "metadata": {
    "code_folding": [
     1,
     45,
     50,
     59
    ]
   },
   "outputs": [],
   "source": [
    "# Define Our Banking Dictionary & Universe\n",
    "account_types = [\n",
    "    \"savings\",\n",
    "    \"salary\",\n",
    "    \"ADIB\",\n",
    "    \"Ghina\",\n",
    "    \"current\",\n",
    "    \"recurring deposit\",\n",
    "    \"fixed deposit\",\n",
    "    \"loan\",\n",
    "    \"demat\",\n",
    "    \"checking\",\n",
    "    \"\",\n",
    "]\n",
    "qualifiers = [\"I\", \"we\"]\n",
    "loan_types = [\"car\", \"travel\", \"personal\", \"student\", \"education\", \"housing\", \"home\"]\n",
    "debt_synonyms = [\"financing\", \"debt\", \"loan\", \"finance\"]\n",
    "card_synonyms = [\"card\", \"covered card\", \"credit card\", \"debit card\", \"atm card\"]\n",
    "card_synonyms_with_blanks = card_synonyms + [\"\"] * len(card_synonyms)\n",
    "card_brands = [\n",
    "    \"Smiles\",\n",
    "    \"Emirates\",\n",
    "    \"Cashback\",\n",
    "    \"Skywards\",\n",
    "    \"Rewards\",\n",
    "    \"Etihad\",\n",
    "    \"Skyward\",\n",
    "    \"Spice\",\n",
    "    \"amex\",\n",
    "    \"diners\",\n",
    "    \"discover\",\n",
    "    \"jcb\",\n",
    "    \"jcb15\",\n",
    "    \"jcb16\",\n",
    "    \"maestro\",\n",
    "    \"mastercard\",\n",
    "    \"visa\",\n",
    "    \"visa13\",\n",
    "    \"visa16\",\n",
    "    \"visa19\",\n",
    "]\n",
    "card_brands_with_blanks = card_brands + [\"\"] * len(card_brands)\n",
    "\n",
    "fees_synonyms = [\"charges\", \"fees\", \"cost\", \"price\"]\n",
    "balance_synonyms = [\"balance\", \"amount\", \"figure\", \"money\", \"bal\"]\n",
    "account_info_terms = [\n",
    "    \"features\",\n",
    "    \"interest rates\",\n",
    "    \"details\",\n",
    "]\n",
    "debt_info_terms = [\n",
    "    \"amount due\",\n",
    "    \"due amount\",\n",
    "    \"payment date\",\n",
    "    \"installment\",\n",
    "]\n",
    "action = [\"apply\", \"get\", \"open\"]\n",
    "close = [\"nearest\", \"nearby\"]\n",
    "find_close = [\"how close is the\", \"where is the\", \"need to go to\", \"ADIB\"]\n",
    "find_what = [\n",
    "    \"ATM\",\n",
    "    \"branch\",\n",
    "    \"branches\",\n",
    "    \"loan agent\",\n",
    "    \"cash deposit machine\",\n",
    "    \"cheque deposit machine\",\n",
    "    \"cash withdrawal\",\n",
    "    \"ccdm\",\n",
    "    \"cash withdraw machine\",\n",
    "]"
   ]
  },
  {
   "cell_type": "code",
   "execution_count": 84,
   "metadata": {
    "code_folding": [
     1,
     19,
     46,
     51,
     60
    ]
   },
   "outputs": [],
   "source": [
    "inform = [\n",
    "    \"What is my\",\n",
    "    \"show me my\",\n",
    "    \"find\",\n",
    "    \"can you show me the\",\n",
    "    \"show\",\n",
    "    \"my\",\n",
    "    \"show me the\",\n",
    "    \"looking for my\",\n",
    "    \"Check\",\n",
    "    \"I want to know\",\n",
    "    \"What is\",\n",
    "    \"get\",\n",
    "    \"Tell me\",\n",
    "    \"display\",\n",
    "    \"assist me with\",\n",
    "    \"can you search\",\n",
    "    \"please show me\",\n",
    "    \"please tell me\",\n",
    "    \"I would like to see\",\n",
    "    \"I wanna check\",\n",
    "    \"I want someone to help me find\",\n",
    "]"
   ]
  },
  {
   "cell_type": "markdown",
   "metadata": {},
   "source": [
    "Operation | Account | Card |\n",
    "---|---|---|\n",
    "Status Check| Yes| Yes|\n",
    "Fees Check| Yes| Yes|\n",
    "Get Credentials| Yes| Yes|\n",
    "Update Credentials| Yes| Yes|\n",
    "Balance/Dues Check| Yes| Yes|\n",
    "Apply For| Yes|Yes|\n",
    "Transfer Money| Yes| No|\n",
    "Replace/Cancel/Report Missing| No| Yes|"
   ]
  },
  {
   "cell_type": "code",
   "execution_count": 15,
   "metadata": {
    "code_folding": []
   },
   "outputs": [],
   "source": [
    "# Sentence Templates with Intent Labels\n",
    "STATUS_CHECK = \"status_check\" # added templates\n",
    "FEES_INQUIRY = \"fees_inquiry\" # added templates\n",
    "GET_CREDENTIALS = \"get_credentials\" # added templates\n",
    "CHANGE_CREDENTIALS = \"change_credential_info\"\n",
    "ACCOUNT_ACTIVITY = \"get_account_activity\" # added templates\n",
    "ACCOUNT_BALANCE = \"get_account_balance\"\n",
    "DUES_CHECK = \"get_pending_dues\"\n",
    "ACTIVATE = \"activate\" # card or account or some specific feature\n",
    "REQUEST_CARD_ACTION = \"replace_cancel_report_missing_card\"\n",
    "REQUEST_INFO_INTENT = \"ask_for_info\"\n",
    "APPLY_FOR = \"apply_for\" # added templates\n",
    "\n",
    "# 'Banking_Change_Credential_Info': 2100,\n",
    "# 'Banking_Card_Request': 2000,\n",
    "# 'Banking_Fee_Inquiry': 1824,\n",
    "# 'Banking_Get_Acc_Status': 1800,\n",
    "# 'Banking_Get_Card_Request_Status': 1714,\n",
    "# 'Banking_Replace_Card': 1629,\n",
    "# 'Banking_Cancel_Card': 1550,\n",
    "# 'Banking_Activate_Card': 1548,\n",
    "\n",
    "# 'Banking_Get_Account_Balance': 1500,\n",
    "# 'Banking_Get_Secure_Info': 1500,\n",
    "# 'Banking_Get_Account_Details': 1200,\n",
    "# 'Banking_Get_Card_Status': 802,\n",
    "\n",
    "# 'Banking_Get_Account_Number': 500,\n",
    "# 'Banking_Get_Address': 500,\n",
    "# 'Banking_Get_Email': 500,\n",
    "# 'Banking_Get_Contact': 500,\n",
    "# 'Banking_Get_Card_Number': 401,\n",
    "# 'Banking_Get_Username': 400,\n",
    "# 'Banking_Get_Card_Details': 200,\n",
    "\n",
    "# 'Banking_Change_Password': 400,\n",
    "# 'Banking_Change_Address': 360,\n",
    "# 'Banking_Change_Passcode': 401,\n",
    "# 'Banking_Card_Number': 25,\n",
    "# 'Banking_Password': 20,\n",
    "# 'Banking_Passcode': 11,\n",
    "# 'Banking_Email': 9"
   ]
  },
  {
   "cell_type": "code",
   "execution_count": null,
   "metadata": {
    "code_folding": [
     0
    ]
   },
   "outputs": [],
   "source": [
    "templates_info_banking = [\n",
    "    {\n",
    "        \"templates\": \"{find_close} {mask} {close} {find_what}\",\n",
    "        \"labels\": REQUEST_INFO_INTENT,\n",
    "    },\n",
    "    {\n",
    "        \"templates\": \"{inform} {account_types} {account_info_terms}\",\n",
    "        \"labels\": REQUEST_INFO_INTENT,\n",
    "    },\n",
    "    {\"templates\": \"{inform} {cards} {debt_info_terms}\", \"labels\": REQUEST_INFO_INTENT},\n",
    "    {\"templates\": \"{loan_types} {debt_synonyms}\", \"labels\": REQUEST_INFO_INTENT},\n",
    "    {\n",
    "        \"templates\": \"{account_types} account {account_info_terms}\",\n",
    "        \"labels\": REQUEST_INFO_INTENT,\n",
    "    },\n",
    "]"
   ]
  },
  {
   "cell_type": "code",
   "execution_count": 281,
   "metadata": {
    "code_folding": []
   },
   "outputs": [],
   "source": [
    "# status check for both cards and account\n",
    "disable = [\"disabled\", \"blocked\", \"turned off\", \"restricted\", \"cancelled\", \"suspended\", \"activated\", \"turned on\"]\n",
    "status_check_templates = [\n",
    "    {\n",
    "        \"templates\": \"please {mask} me to search me my {card_brands} {cards} status\",\n",
    "        \"labels\": STATUS_CHECK,\n",
    "    },\n",
    "    {\n",
    "        \"templates\": \"please assist me to search me my {account_types} account status\",\n",
    "        \"labels\": STATUS_CHECK,\n",
    "    },\n",
    "    {\n",
    "        \"templates\": \"help me to obtain me {card_brands} {cards} status\",\n",
    "        \"labels\": STATUS_CHECK,\n",
    "    },\n",
    "    {\n",
    "        \"templates\": \"can you prepare my {card_brands} {cards} status\",\n",
    "        \"labels\": STATUS_CHECK,\n",
    "    },\n",
    "    {\"templates\": \"How can i be displayed card status?\", \"labels\": STATUS_CHECK},\n",
    "    {\n",
    "        \"templates\": \"please can you help me to come with me {card_brands} {cards} status\",\n",
    "        \"labels\": STATUS_CHECK,\n",
    "    },\n",
    "    {\"templates\": \"please provide me {cards} status\", \"labels\": STATUS_CHECK},\n",
    "    {\"templates\": \"assist to find my {card_brands} status\", \"labels\": STATUS_CHECK},\n",
    "    {\n",
    "        \"templates\": \"display {card_brands} {cards} status\",\n",
    "        \"labels\": STATUS_CHECK,\n",
    "        \"cards\": card_synonyms_with_blanks,\n",
    "    },\n",
    "    {\"templates\": \"{inform} status of {cards}\", \"labels\": STATUS_CHECK},\n",
    "    {\"templates\": \"{inform} status of my {card_brands} {cards}\", \"labels\": STATUS_CHECK},\n",
    "    {\"templates\": \"provide status of {card_brands} {cards}\", \"labels\": STATUS_CHECK},\n",
    "    {\n",
    "        \"templates\": \"assist me to provide whether my account is cancelled\",\n",
    "        \"labels\": STATUS_CHECK,\n",
    "    },\n",
    "    {\n",
    "        \"templates\": \"can you {mask} me to give whether account is {disable}\",\n",
    "        \"labels\": STATUS_CHECK,\n",
    "    },\n",
    "    {\n",
    "        \"templates\": \"look through my {account_types} account and tell me whether account is {disable}\",\n",
    "        \"labels\": STATUS_CHECK,\n",
    "        \"disable\": disable\n",
    "    },\n",
    "    {\"templates\": \"obtain my {account_type} account status\", \"labels\": STATUS_CHECK},\n",
    "    {\n",
    "        \"templates\": \"help me to obtain whether or not {account_types} account is {disable}\",\n",
    "        \"labels\": STATUS_CHECK,\n",
    "        \"disable\": disable\n",
    "    },\n",
    "    {\n",
    "        \"templates\": \"see through and tell me whether it's {disable}\",\n",
    "        \"labels\": STATUS_CHECK,\n",
    "        \"disable\": disable\n",
    "    },\n",
    "    {\"templates\": \"{inform} account status\", \"labels\": STATUS_CHECK},\n",
    "    {\n",
    "        \"templates\": \"can you please look through and tell me whether my account is {disable}\",\n",
    "        \"labels\": STATUS_CHECK,\n",
    "        \"disable\": disable\n",
    "    },\n",
    "]"
   ]
  },
  {
   "cell_type": "code",
   "execution_count": 257,
   "metadata": {
    "code_folding": [
     19
    ]
   },
   "outputs": [],
   "source": [
    "fees_inquiry_templates = [\n",
    "    {\n",
    "        \"templates\": \"{account_types} account {fees_synonyms}\",\n",
    "        \"labels\": FEES_INQUIRY,\n",
    "    },\n",
    "    {\n",
    "        \"templates\": \"{inform} {account_types} account {fees_synonyms}\",\n",
    "        \"labels\": FEES_INQUIRY,\n",
    "    },\n",
    "]\n",
    "apply_for_templates = [\n",
    "    {\"templates\": \"{action} {card_brands} {cards}\", \"labels\": APPLY_FOR},\n",
    "    {\n",
    "        \"templates\": \"How {verb:mask} {qualifiers} {action} {pron:mask} {card_brands} {cards}\",\n",
    "        \"labels\": APPLY_FOR,\n",
    "    },\n",
    "    {\"templates\": \"{action} {account_types} account\", \"labels\": APPLY_FOR},\n",
    "    {\"templates\": \"{mask} {mask} open {account_types} account\", \"labels\": APPLY_FOR},\n",
    "]\n",
    "account_balance_templates = [\n",
    "    {\n",
    "        \"templates\": \"can you help me to obtain my {balance_synonyms} in account\",\n",
    "        \"labels\": ACCOUNT_BALANCE,\n",
    "        \"balance_synonyms\": balance_synonyms,\n",
    "    },\n",
    "    {\n",
    "        \"templates\": \"How can i be provided {balance_synonyms} of XX2469?\",\n",
    "        \"labels\": ACCOUNT_BALANCE,\n",
    "        \"balance_synonyms\": balance_synonyms,\n",
    "    },\n",
    "    {\n",
    "        \"templates\": \"get my {cards} {balance_synonyms}\",\n",
    "        \"labels\": ACCOUNT_BALANCE,\n",
    "        \"balance_synonyms\": balance_synonyms,\n",
    "    },\n",
    "    {\n",
    "        \"templates\": \"please assist to give my balance of {cards}\",\n",
    "        \"labels\": ACCOUNT_BALANCE,\n",
    "        \"balance_synonyms\": balance_synonyms,\n",
    "    },\n",
    "    {\n",
    "        \"templates\": \"{inform} {account_types} account {balance_synonyms}\",\n",
    "        \"labels\": ACCOUNT_BALANCE,\n",
    "        \"balance_synonyms\": balance_synonyms,\n",
    "    },\n",
    "    {\n",
    "        \"templates\": \"{inform} {balance_synonyms} of {account_types} a/c\",\n",
    "        \"labels\": ACCOUNT_BALANCE,\n",
    "        \"balance_synonyms\": balance_synonyms,\n",
    "    },\n",
    "    {\n",
    "        \"templates\": \"{inform} {balance_synonyms} of {mask} {cards} a/c\",\n",
    "        \"labels\": ACCOUNT_BALANCE,\n",
    "        \"balance_synonyms\": balance_synonyms,\n",
    "    },\n",
    "    {\n",
    "        \"templates\": \"{inform} {account_types} {balance_synonyms}\",\n",
    "        \"labels\": ACCOUNT_BALANCE,\n",
    "        \"balance_synonyms\": balance_synonyms,\n",
    "    },\n",
    "    {\n",
    "        \"templates\": \"{inform} {balance_synonyms} of {account_types} a/c\",\n",
    "        \"labels\": ACCOUNT_BALANCE,\n",
    "        \"balance_synonyms\": balance_synonyms,\n",
    "    },\n",
    "    {\n",
    "        \"templates\": \"prepare {balance_synonyms}\",\n",
    "        \"labels\": ACCOUNT_BALANCE,\n",
    "        \"balance_synonyms\": balance_synonyms,\n",
    "    },\n",
    "]"
   ]
  },
  {
   "cell_type": "code",
   "execution_count": 258,
   "metadata": {
    "code_folding": [
     0
    ]
   },
   "outputs": [],
   "source": [
    "account_activity_templates = [\n",
    "    {\n",
    "        \"templates\": \"Do you know about activities of my {account_types} account?\",\n",
    "        \"labels\": ACCOUNT_ACTIVITY,\n",
    "    },\n",
    "    {\"templates\": \"Transaction history\", \"labels\": ACCOUNT_ACTIVITY},\n",
    "    {\n",
    "        \"templates\": \"What is the amount of interest that got credited to my a/c?\",\n",
    "        \"labels\": ACCOUNT_ACTIVITY,\n",
    "    },\n",
    "    {\n",
    "        \"templates\": \"{inform} account activities detail\",\n",
    "        \"labels\": ACCOUNT_ACTIVITY,\n",
    "    },\n",
    "    {\n",
    "        \"templates\": \"{inform} any recent activity on my account before the interest got added\",\n",
    "        \"labels\": ACCOUNT_ACTIVITY,\n",
    "    },\n",
    "    {\n",
    "        \"templates\": \"{inform} my {account_types} summary\",\n",
    "        \"labels\": ACCOUNT_ACTIVITY,\n",
    "    },\n",
    "    {\n",
    "        \"templates\": \"Help with viewing activity that take place in an a/c\",\n",
    "        \"labels\": ACCOUNT_ACTIVITY,\n",
    "    },\n",
    "    {\n",
    "        \"templates\": \"From where can I get the latest credit in my {account_types} account\",\n",
    "        \"labels\": ACCOUNT_ACTIVITY,\n",
    "    },\n",
    "    {\n",
    "        \"templates\": \"When was the transaction processed for my account?\",\n",
    "        \"labels\": ACCOUNT_ACTIVITY,\n",
    "    },\n",
    "    {\n",
    "        \"templates\": \"{inform} my a/c transactions and summary for every activity of my account\",\n",
    "        \"labels\": ACCOUNT_ACTIVITY,\n",
    "    },\n",
    "    {\n",
    "        \"templates\": \"Where to search most recent 2 activity history for a/c?\",\n",
    "        \"labels\": ACCOUNT_ACTIVITY,\n",
    "    },\n",
    "    {\n",
    "        \"templates\": \"check {mask} account activity\",\n",
    "        \"labels\": ACCOUNT_ACTIVITY,\n",
    "    },\n",
    "    {\n",
    "        \"templates\": \"Can I get statement for transactions in summary?\",\n",
    "        \"labels\": ACCOUNT_ACTIVITY,\n",
    "    },\n",
    "    {\n",
    "        \"templates\": \"want 2 search accounts transactions\",\n",
    "        \"labels\": ACCOUNT_ACTIVITY,\n",
    "    },\n",
    "    {\n",
    "        \"templates\": \"Places where activity summary can be obtained\",\n",
    "        \"labels\": ACCOUNT_ACTIVITY,\n",
    "    },\n",
    "    {\n",
    "        \"templates\": \"assist to provide me my a/c previous 10 activity summary\",\n",
    "        \"labels\": ACCOUNT_ACTIVITY,\n",
    "    },\n",
    "    {\n",
    "        \"templates\": \"please help me to {mask} my a/c last 12 transactions\",\n",
    "        \"labels\": ACCOUNT_ACTIVITY,\n",
    "    },\n",
    "]"
   ]
  },
  {
   "cell_type": "code",
   "execution_count": 259,
   "metadata": {
    "code_folding": [
     0
    ]
   },
   "outputs": [],
   "source": [
    "# GET and CHANGE CREDS TEMPLATE\n",
    "user_contact_list = [\n",
    "    \"email id\",\n",
    "    \"mail id\",\n",
    "    \"email\",\n",
    "    \"mail\",\n",
    "    \"phone\",\n",
    "    \"phone number\",\n",
    "    \"contact number\",\n",
    "    \"mobile number\",\n",
    "    \"mob no\",\n",
    "    \"registered email\",\n",
    "    \"sign in detail\",\n",
    "    \"account number\",\n",
    "    \"account no\",\n",
    "    \"a/c no\",\n",
    "    \"address\",\n",
    "    \"mob num\",\n",
    "    \"contact num\"\n",
    "    \"registered phone number\"\n",
    "]\n",
    "get_credentials_templates = [\n",
    "    {\"templates\": \"{inform} {user_contact_list}\", \"labels\": GET_CREDENTIALS},\n",
    "]"
   ]
  },
  {
   "cell_type": "code",
   "execution_count": 260,
   "metadata": {
    "code_folding": [
     0
    ]
   },
   "outputs": [],
   "source": [
    "# CHANGE CREDS TEMPLATE\n",
    "change = [\n",
    "    \"can you change\",\n",
    "    \"please assist to modify\",\n",
    "    \"update my\",\n",
    "    \"help me to update my\",\n",
    "    \"change\",\n",
    "    \"please can you help me to correct my\",\n",
    "    \"reset\",\n",
    "    \"reset my\",\n",
    "    \"forgot my\",\n",
    "    \"modify my\",\n",
    "]\n",
    "\n",
    "change_credentials_templates = [\n",
    "    {\"templates\": \"{change} {user_contact_list}\", \"labels\": CHANGE_CREDENTIALS},\n",
    "    {\n",
    "        \"templates\": \"get my {user_contact_list} {corrected}\",\n",
    "        \"labels\": CHANGE_CREDENTIALS,\n",
    "        \"corrected\": [\"corrected\", \"updated\", \"modified\", \"reset\"],\n",
    "    },\n",
    "    {\n",
    "        \"templates\": \"{mask} make sure that my {user_contact_list} is {corrected}\",\n",
    "        \"labels\": CHANGE_CREDENTIALS,\n",
    "        \"corrected\": [\"corrected\", \"updated\", \"modified\", \"reset\"],\n",
    "    },\n",
    "]\n",
    "\n",
    "# 'get my pass code corrected',\n",
    "# 'contact num',\n",
    "# 'help me to modulation me my mobile number',"
   ]
  },
  {
   "cell_type": "code",
   "execution_count": 261,
   "metadata": {
    "code_folding": [
     0
    ]
   },
   "outputs": [],
   "source": [
    "def get_banking_generations(template, nsamples=10):\n",
    "    \"\"\"\n",
    "    Wrapper function for Filling any Sentence Template with Our Banking Universe\n",
    "    \"\"\"\n",
    "    return editor.template(\n",
    "        **template,\n",
    "        account_types=account_types,\n",
    "        qualifiers=qualifiers,\n",
    "        loan_types=loan_types,\n",
    "        fees_synonyms=fees_synonyms,\n",
    "        debt_synonyms=debt_synonyms,\n",
    "        close=close,\n",
    "        change=change,\n",
    "        action=action,\n",
    "        card_brands=card_brands,\n",
    "        cards=card_synonyms,\n",
    "        find_close=find_close,\n",
    "        user_contact_list=user_contact_list,\n",
    "        inform=inform,\n",
    "        find_what=find_what,\n",
    "        debt_info_terms=debt_info_terms,\n",
    "        account_info_terms=account_info_terms,\n",
    "        remove_duplicates=True,\n",
    "        nsamples=nsamples,\n",
    "        meta=True,\n",
    "    )"
   ]
  },
  {
   "cell_type": "code",
   "execution_count": 284,
   "metadata": {},
   "outputs": [
    {
     "ename": "TypeError",
     "evalue": "template() got multiple values for keyword argument 'cards'",
     "output_type": "error",
     "traceback": [
      "\u001b[0;31m---------------------------------------------------------------------------\u001b[0m",
      "\u001b[0;31mTypeError\u001b[0m                                 Traceback (most recent call last)",
      "\u001b[0;32m<ipython-input-284-fa1516d396d2>\u001b[0m in \u001b[0;36m<module>\u001b[0;34m\u001b[0m\n\u001b[0;32m----> 1\u001b[0;31m \u001b[0mfilled_in_info\u001b[0m \u001b[0;34m=\u001b[0m \u001b[0mget_banking_generations\u001b[0m\u001b[0;34m(\u001b[0m\u001b[0mrandom\u001b[0m\u001b[0;34m.\u001b[0m\u001b[0mchoice\u001b[0m\u001b[0;34m(\u001b[0m\u001b[0mstatus_check_templates\u001b[0m\u001b[0;34m)\u001b[0m\u001b[0;34m,\u001b[0m \u001b[0mnsamples\u001b[0m\u001b[0;34m=\u001b[0m\u001b[0;36m20\u001b[0m\u001b[0;34m)\u001b[0m\u001b[0;34m\u001b[0m\u001b[0;34m\u001b[0m\u001b[0m\n\u001b[0m\u001b[1;32m      2\u001b[0m \u001b[0mfilled_in_info\u001b[0m\u001b[0;34m.\u001b[0m\u001b[0mdata\u001b[0m\u001b[0;34m,\u001b[0m \u001b[0mfilled_in_info\u001b[0m\u001b[0;34m.\u001b[0m\u001b[0mmeta\u001b[0m\u001b[0;34m,\u001b[0m \u001b[0mfilled_in_info\u001b[0m\u001b[0;34m.\u001b[0m\u001b[0mlabels\u001b[0m\u001b[0;34m\u001b[0m\u001b[0;34m\u001b[0m\u001b[0m\n",
      "\u001b[0;32m<ipython-input-261-d389ad01b7a3>\u001b[0m in \u001b[0;36mget_banking_generations\u001b[0;34m(template, nsamples)\u001b[0m\n\u001b[1;32m     23\u001b[0m         \u001b[0mremove_duplicates\u001b[0m\u001b[0;34m=\u001b[0m\u001b[0;32mTrue\u001b[0m\u001b[0;34m,\u001b[0m\u001b[0;34m\u001b[0m\u001b[0;34m\u001b[0m\u001b[0m\n\u001b[1;32m     24\u001b[0m         \u001b[0mnsamples\u001b[0m\u001b[0;34m=\u001b[0m\u001b[0mnsamples\u001b[0m\u001b[0;34m,\u001b[0m\u001b[0;34m\u001b[0m\u001b[0;34m\u001b[0m\u001b[0m\n\u001b[0;32m---> 25\u001b[0;31m         \u001b[0mmeta\u001b[0m\u001b[0;34m=\u001b[0m\u001b[0;32mTrue\u001b[0m\u001b[0;34m,\u001b[0m\u001b[0;34m\u001b[0m\u001b[0;34m\u001b[0m\u001b[0m\n\u001b[0m\u001b[1;32m     26\u001b[0m     )\n",
      "\u001b[0;31mTypeError\u001b[0m: template() got multiple values for keyword argument 'cards'"
     ]
    }
   ],
   "source": [
    "filled_in_info = get_banking_generations(random.choice(status_check_templates), nsamples=20)\n",
    "filled_in_info.data, filled_in_info.meta, filled_in_info.labels"
   ]
  },
  {
   "cell_type": "code",
   "execution_count": null,
   "metadata": {},
   "outputs": [],
   "source": []
  },
  {
   "cell_type": "code",
   "execution_count": 40,
   "metadata": {},
   "outputs": [],
   "source": [
    "import checklist\n",
    "from checklist.editor import Editor\n",
    "from checklist.perturb import Perturb\n",
    "from checklist.test_types import MFT, INV, DIR\n",
    "\n",
    "editor = Editor()\n",
    "\n",
    "nlp = spacy.load(\"en_core_web_sm\")\n",
    "\n",
    "dataset = [\n",
    "    \"This was a very nice movie directed by John Smith.\",\n",
    "    \"Mary Keen was brilliant.\",\n",
    "    \"I hated everything about this.\",\n",
    "    \"This movie was very bad.\",\n",
    "    \"I really liked this movie.\",\n",
    "    \"just bad.\",\n",
    "    \"amazing.\",\n",
    "]\n",
    "t1 = Perturb.perturb(dataset, Perturb.add_typos)\n",
    "t2 = Perturb.perturb([x[1] for x in t1.data], Perturb.contractions)"
   ]
  },
  {
   "cell_type": "code",
   "execution_count": 11,
   "metadata": {},
   "outputs": [],
   "source": [
    "combined_data = [x[1] for x in t1.data] + [x[1] for x in t2.data]"
   ]
  },
  {
   "cell_type": "code",
   "execution_count": 12,
   "metadata": {},
   "outputs": [
    {
     "data": {
      "text/plain": [
       "['This was a very nice movie directe dby John Smith.',\n",
       " 'Mary Keen was brilliatn.',\n",
       " 'I hated everything about htis.',\n",
       " 'This movie was veryb ad.',\n",
       " ' Ireally liked this movie.',\n",
       " 'jus tbad.',\n",
       " 'amaizng.']"
      ]
     },
     "execution_count": 12,
     "metadata": {},
     "output_type": "execute_result"
    }
   ],
   "source": [
    "combined_data"
   ]
  },
  {
   "cell_type": "code",
   "execution_count": null,
   "metadata": {},
   "outputs": [],
   "source": []
  }
 ],
 "metadata": {
  "kernelspec": {
   "display_name": "Python 3",
   "language": "python",
   "name": "python3"
  },
  "language_info": {
   "codemirror_mode": {
    "name": "ipython",
    "version": 3
   },
   "file_extension": ".py",
   "mimetype": "text/x-python",
   "name": "python",
   "nbconvert_exporter": "python",
   "pygments_lexer": "ipython3",
   "version": "3.6.12"
  }
 },
 "nbformat": 4,
 "nbformat_minor": 4
}
