{
 "cells": [
  {
   "cell_type": "code",
   "execution_count": 1,
   "metadata": {},
   "outputs": [],
   "source": [
    "import checklist\n",
    "import numpy as np\n",
    "import spacy\n",
    "from checklist.editor import Editor\n",
    "editor = Editor()"
   ]
  },
  {
   "cell_type": "code",
   "execution_count": 2,
   "metadata": {},
   "outputs": [],
   "source": [
    "# !python -m spacy download en_core_web_sm"
   ]
  },
  {
   "cell_type": "code",
   "execution_count": 3,
   "metadata": {
    "code_folding": []
   },
   "outputs": [],
   "source": [
    "# Custom Utils for this Notebook\n",
    "show_random = lambda ret: np.random.choice(ret.data, 3)"
   ]
  },
  {
   "cell_type": "code",
   "execution_count": 4,
   "metadata": {
    "code_folding": []
   },
   "outputs": [
    {
     "data": {
      "text/plain": [
       "array(['Suzanne is a lawyer from Senegal.',\n",
       "       'Thomas is an accountant from Guyana.',\n",
       "       'Philip is a doctor from Sierra Leone.'], dtype='<U67')"
      ]
     },
     "execution_count": 4,
     "metadata": {},
     "output_type": "execute_result"
    }
   ],
   "source": [
    "# Checklist Example of Editor filled with Lexicon Values\n",
    "\n",
    "ret = editor.template('{first_name} is {a:profession} from {country}.',\n",
    "                       profession=['lawyer', 'doctor', 'accountant'])\n",
    "show_random(ret)"
   ]
  },
  {
   "cell_type": "code",
   "execution_count": 5,
   "metadata": {
    "code_folding": [
     0
    ]
   },
   "outputs": [
    {
     "name": "stderr",
     "output_type": "stream",
     "text": [
      "Some weights of RobertaForMaskedLM were not initialized from the model checkpoint at roberta-base and are newly initialized: ['lm_head.decoder.bias']\n",
      "You should probably TRAIN this model on a down-stream task to be able to use it for predictions and inference.\n"
     ]
    },
    {
     "data": {
      "text/plain": [
       "array(['This is a bad song.', 'This is a bad test.',\n",
       "       'This is a good pick.'], dtype='<U32')"
      ]
     },
     "execution_count": 5,
     "metadata": {},
     "output_type": "execute_result"
    }
   ],
   "source": [
    "# Checklist Example of Editor filled with a BERT-based mask\n",
    "ret = editor.template('This is {a:adj} {mask}.',  \n",
    "                      adj=['good', 'bad', 'great', 'terrible'])\n",
    "show_random(ret)"
   ]
  },
  {
   "cell_type": "code",
   "execution_count": 6,
   "metadata": {
    "code_folding": [
     0,
     16
    ]
   },
   "outputs": [],
   "source": [
    "# Define Our Banking Dictionary & Universe\n",
    "account_types = [\n",
    "    \"savings\",\n",
    "    \"salary\",\n",
    "    \"ADIB\",\n",
    "    \"Ghina\",\n",
    "    \"current\",\n",
    "    \"recurring deposit\",\n",
    "    \"fixed deposit\",\n",
    "    \"loan\",\n",
    "    \"demat\",\n",
    "]\n",
    "qualifiers = [\"I\", \"we\"]\n",
    "loan_types = [\"car\", \"travel\", \"personal\", \"student\", \"education\", \"housing\", \"home\"]\n",
    "debt_synonyms = [\"financing\", \"debt\", \"loan\", \"finance\"]\n",
    "card_synonyms = [\"card\", \"covered card\", \"credit card\", \"debit card\", \"atm card\"]\n",
    "card_brands = [\n",
    "    \"Smiles\",\n",
    "    \"Emirates\",\n",
    "    \"Cashback\",\n",
    "    \"Skywards\",\n",
    "    \"Rewards\",\n",
    "    \"Etihad\",\n",
    "    \"Skyward\",\n",
    "    \"Booking.com\",\n",
    "    \"Spice\",\n",
    "    \"amex\",\n",
    "    \"diners\",\n",
    "    \"discover\",\n",
    "    \"jcb\",\n",
    "    \"jcb15\",\n",
    "    \"jcb16\",\n",
    "    \"maestro\",\n",
    "    \"mastercard\",\n",
    "    \"visa\",\n",
    "    \"visa13\",\n",
    "    \"visa16\",\n",
    "    \"visa19\",\n",
    "]\n",
    "\n",
    "account_info_terms = [\n",
    "    \"features\",\n",
    "    \"interest rates\",\n",
    "    \"charges\",\n",
    "    \"details\",\n",
    "    \"fees\",\n",
    "    \"balance\",\n",
    "]\n",
    "debt_info_terms = [\n",
    "    \"amount due\",\n",
    "    \"due amount\",\n",
    "    \"payment date\",\n",
    "    \"installment\",\n",
    "]\n",
    "action = [\"apply\", \"get\", \"open\"]\n",
    "close = [\"nearest\", \"nearby\"]\n",
    "find_close = [\"how close is the\", \"where is the\", \"need to go to\", \"ADIB\"]\n",
    "find_what = [\n",
    "    \"ATM\",\n",
    "    \"branch\",\n",
    "    \"branches\",\n",
    "    \"loan agent\",\n",
    "    \"cash deposit machine\",\n",
    "    \"cheque deposit machine\",\n",
    "    \"cash withdrawal\",\n",
    "    \"ccdm\",\n",
    "    \"cash withdraw machine\",\n",
    "]\n",
    "inform = [\n",
    "    \"What is my\",\n",
    "    \"show me my\",\n",
    "    \"find\",\n",
    "    \"can you show me the\",\n",
    "    \"show\",\n",
    "    \"my\",\n",
    "    \"show me the\",\n",
    "    \"looking for my\",\n",
    "    \"Check\",\n",
    "    \"Remaining\",\n",
    "    \"I want to know\",\n",
    "    \"What is\",\n",
    "    \"get\",\n",
    "    \"Tell me\",\n",
    "    \"Where is your\" \"What are the available\",\n",
    "]"
   ]
  },
  {
   "cell_type": "code",
   "execution_count": 7,
   "metadata": {
    "code_folding": []
   },
   "outputs": [],
   "source": [
    "# Sentence Templates with Intent Labels\n",
    "REQUEST_INFO_INTENT = \"ask_for_info\"\n",
    "templates_info_banking = [\n",
    "    {\n",
    "        \"templates\": \"{find_close} {mask} {close} {find_what}\",\n",
    "        \"labels\": REQUEST_INFO_INTENT,\n",
    "    },\n",
    "    {\n",
    "        \"templates\": \"{inform} {mask} {account_types} {pron:mask} {account_info_terms}\",\n",
    "        \"labels\": REQUEST_INFO_INTENT,\n",
    "    },\n",
    "    {\n",
    "        \"templates\": \"{inform} {account_types} {account_info_terms}\",\n",
    "        \"labels\": REQUEST_INFO_INTENT,\n",
    "    },\n",
    "    {\"templates\": \"{inform} {cards} {debt_info_terms}\", \"labels\": REQUEST_INFO_INTENT},\n",
    "    {\"templates\": \"{loan_types} {debt_synonyms}\", \"labels\": REQUEST_INFO_INTENT},\n",
    "    {\"templates\": \"{action} {card_brands} {cards}\", \"labels\": \"{action}\"},\n",
    "    {\n",
    "        \"templates\": \"How {verb:mask} {qualifiers} {action} {pron:mask} {card_brands} {cards}\",\n",
    "        \"labels\": \"action\",\n",
    "    },\n",
    "    {\"templates\": \"{action} {account_types} account\", \"labels\": \"action\"},\n",
    "    {\"templates\": \"{mask} {mask} open {account_types} account\", \"labels\": \"open\"},\n",
    "    {\n",
    "        \"templates\": \"{account_types} account {account_info_terms}\",\n",
    "        \"labels\": REQUEST_INFO_INTENT,\n",
    "    },\n",
    "]"
   ]
  },
  {
   "cell_type": "code",
   "execution_count": 8,
   "metadata": {
    "code_folding": []
   },
   "outputs": [],
   "source": [
    "def get_banking_generations(template, nsamples=10):\n",
    "    \"\"\"\n",
    "    Wrapper function for Filling any Sentence Template with Our Banking Universe\n",
    "    \"\"\"\n",
    "    return editor.template(\n",
    "        **template,\n",
    "        account_types=account_types,\n",
    "        qualifiers=qualifiers,\n",
    "        loan_types=loan_types,\n",
    "        debt_synonyms=debt_synonyms,\n",
    "        close=close,\n",
    "        action=action,\n",
    "        card_brands=card_brands,\n",
    "        cards=card_synonyms,\n",
    "        find_close=find_close,\n",
    "        inform=inform,\n",
    "        find_what=find_what,\n",
    "        debt_info_terms=debt_info_terms,\n",
    "        account_info_terms=account_info_terms,\n",
    "        remove_duplicates=True,\n",
    "        nsamples=nsamples,\n",
    "        meta=True,\n",
    "    )"
   ]
  },
  {
   "cell_type": "code",
   "execution_count": 9,
   "metadata": {},
   "outputs": [
    {
     "data": {
      "text/plain": [
       "(['fixed deposit account balance',\n",
       "  'ADIB account charges',\n",
       "  'current account fees'],\n",
       " [{'account_types': 'fixed deposit', 'account_info_terms': 'balance'},\n",
       "  {'account_types': 'ADIB', 'account_info_terms': 'charges'},\n",
       "  {'account_types': 'current', 'account_info_terms': 'fees'}],\n",
       " ['ask_for_info', 'ask_for_info', 'ask_for_info'])"
      ]
     },
     "execution_count": 9,
     "metadata": {},
     "output_type": "execute_result"
    }
   ],
   "source": [
    "filled_in_info = get_banking_generations(templates_info_banking[-1], nsamples=3)\n",
    "filled_in_info.data, filled_in_info.meta, filled_in_info.labels"
   ]
  },
  {
   "cell_type": "code",
   "execution_count": 10,
   "metadata": {},
   "outputs": [],
   "source": [
    "import checklist\n",
    "from checklist.editor import Editor\n",
    "from checklist.perturb import Perturb\n",
    "from checklist.test_types import MFT, INV, DIR\n",
    "\n",
    "editor = Editor()\n",
    "\n",
    "nlp = spacy.load(\"en_core_web_sm\")\n",
    "\n",
    "dataset = [\n",
    "    \"This was a very nice movie directed by John Smith.\",\n",
    "    \"Mary Keen was brilliant.\",\n",
    "    \"I hated everything about this.\",\n",
    "    \"This movie was very bad.\",\n",
    "    \"I really liked this movie.\",\n",
    "    \"just bad.\",\n",
    "    \"amazing.\",\n",
    "]\n",
    "t1 = Perturb.perturb(dataset, Perturb.add_typos)\n",
    "t2 = Perturb.perturb([x[1] for x in t1.data], Perturb.contractions)"
   ]
  },
  {
   "cell_type": "code",
   "execution_count": 11,
   "metadata": {},
   "outputs": [],
   "source": [
    "combined_data = [x[1] for x in t1.data] + [x[1] for x in t2.data]"
   ]
  },
  {
   "cell_type": "code",
   "execution_count": 12,
   "metadata": {},
   "outputs": [
    {
     "data": {
      "text/plain": [
       "['This was a very nice movie directe dby John Smith.',\n",
       " 'Mary Keen was brilliatn.',\n",
       " 'I hated everything about htis.',\n",
       " 'This movie was veryb ad.',\n",
       " ' Ireally liked this movie.',\n",
       " 'jus tbad.',\n",
       " 'amaizng.']"
      ]
     },
     "execution_count": 12,
     "metadata": {},
     "output_type": "execute_result"
    }
   ],
   "source": [
    "combined_data"
   ]
  },
  {
   "cell_type": "code",
   "execution_count": null,
   "metadata": {},
   "outputs": [],
   "source": []
  }
 ],
 "metadata": {
  "kernelspec": {
   "display_name": "Python 3",
   "language": "python",
   "name": "python3"
  },
  "language_info": {
   "codemirror_mode": {
    "name": "ipython",
    "version": 3
   },
   "file_extension": ".py",
   "mimetype": "text/x-python",
   "name": "python",
   "nbconvert_exporter": "python",
   "pygments_lexer": "ipython3",
   "version": "3.6.12"
  }
 },
 "nbformat": 4,
 "nbformat_minor": 4
}
