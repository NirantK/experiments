{
 "cells": [
  {
   "cell_type": "code",
   "execution_count": 1,
   "metadata": {},
   "outputs": [],
   "source": [
    "import json\n",
    "import random\n",
    "from pathlib import Path\n",
    "\n",
    "%load_ext autoreload\n",
    "%autoreload 2\n",
    "Path.ls = lambda x: list(x.iterdir())"
   ]
  },
  {
   "cell_type": "code",
   "execution_count": 2,
   "metadata": {},
   "outputs": [],
   "source": [
    "# !pip install pymagnitude==0.1.117"
   ]
  },
  {
   "cell_type": "code",
   "execution_count": 3,
   "metadata": {},
   "outputs": [],
   "source": [
    "# !pip install lz4 xxhash annoy fasteners torch"
   ]
  },
  {
   "cell_type": "code",
   "execution_count": 4,
   "metadata": {},
   "outputs": [],
   "source": [
    "from pymagnitude import Magnitude\n",
    "vectors = Magnitude(\"glove/heavy/glove.twitter.27B.200d.magnitude\")"
   ]
  },
  {
   "cell_type": "code",
   "execution_count": 7,
   "metadata": {},
   "outputs": [],
   "source": [
    "# vectors.most_similar_to_given(\"meghana\", [\"cat\", \"dog\", \"deadinside\"])"
   ]
  },
  {
   "cell_type": "code",
   "execution_count": null,
   "metadata": {},
   "outputs": [],
   "source": [
    "import string\n",
    "from typing import Any, List\n",
    "\n",
    "import matplotlib\n",
    "import matplotlib.pyplot as plt\n",
    "import numpy as np\n",
    "from PIL import Image, ImageDraw, ImageFont\n",
    "\n",
    "from wordzones.core import Paint\n",
    "\n",
    "%matplotlib inline\n",
    "matplotlib.rcParams[\"savefig.pad_inches\"] = 0"
   ]
  },
  {
   "cell_type": "code",
   "execution_count": null,
   "metadata": {},
   "outputs": [],
   "source": [
    "p = Paint()\n",
    "p.show_canvas()"
   ]
  },
  {
   "cell_type": "code",
   "execution_count": null,
   "metadata": {},
   "outputs": [],
   "source": [
    "def divide_chunks(l, n=3):\n",
    "    # looping till length l\n",
    "    for i in range(0, len(l), n):\n",
    "        yield l[i : i + n]\n",
    "\n",
    "\n",
    "def flatten(listOfLists: List[List[Any]]) -> List[Any]:\n",
    "    return [item for sublist in listOfLists for item in sublist]"
   ]
  },
  {
   "cell_type": "code",
   "execution_count": null,
   "metadata": {},
   "outputs": [],
   "source": [
    "def get_canvas(\n",
    "    max_char_width,\n",
    "    max_block_height,\n",
    "    n_chunks,\n",
    "    scale,\n",
    "    word_pad_perc=0.1,\n",
    "    line_pad_perc=0.3,\n",
    "    background_color=\"white\",\n",
    "):\n",
    "    w_pad, h_pad = word_pad_perc, line_pad_perc\n",
    "    char_width, block_height = (\n",
    "        int(max_char_width * (1 + w_pad)),\n",
    "        int(max_block_height * (1 + h_pad)),\n",
    "    )\n",
    "    #     print(char_width, block_height)\n",
    "    w, h = int(char_width * 3 * scale), int(block_height * n_chunks * scale)\n",
    "    img = Image.new(\"RGB\", (w, h), color=background_color)\n",
    "    return img, char_width, int(block_height * 1.2)"
   ]
  },
  {
   "cell_type": "code",
   "execution_count": null,
   "metadata": {},
   "outputs": [],
   "source": [
    "def canvas(\n",
    "    zones: List[List[str]] = [\n",
    "        [\"assignment\", \"points\", \"test\", \"work\", \"expect\"],\n",
    "        [\"molecules\", \"receptor\", \"binding\", \"protein\"],\n",
    "        [\"india\", \"pakistan\", \"sri lanka\"],\n",
    "        [\"usa\", \"mexico\", \"canada\"],\n",
    "        [\"energy\", \"oil\", \"gas\", \"solar\", \"nuclear\"],\n",
    "        [\"china\", \"vietnam\", \"indonesia\", \"thailand\", \"japan\", \"malaysia\", \"singapore\"],\n",
    "    ],\n",
    "    hide_axes=False,\n",
    "    font_sz=75,\n",
    "    theme_colors: List[List[int]] = [\n",
    "        [62, 98, 160],\n",
    "        [247, 56, 56],\n",
    "        [127, 76, 57],\n",
    "        [65, 181, 136],\n",
    "        [232, 176, 99],\n",
    "        [66, 167, 181],\n",
    "    ],\n",
    "    scale=2,\n",
    "    shuffle_zones: bool = False,\n",
    "):\n",
    "\n",
    "    assert len(theme_colors) >= 6\n",
    "    font = ImageFont.truetype(font=\"DroidSans.ttf\", size=font_sz * scale)\n",
    "    w_font, h_font = font.getsize(\"gh\")\n",
    "    chunked_zones = list(divide_chunks(zones))\n",
    "    n_chunks = len(chunked_zones)\n",
    "\n",
    "    max_char_width, max_block_height = (\n",
    "        len(max(flatten(zones), key=len)) * w_font,\n",
    "        len(max(zones, key=len)) * h_font,\n",
    "    )\n",
    "    #     print(max_char_width, max_block_height, w_font, h_font)\n",
    "    img, char_width, block_height = get_canvas(\n",
    "        max_char_width, max_block_height, n_chunks, scale\n",
    "    )\n",
    "    if shuffle_zones:\n",
    "        random.shuffle(chunked_zones)\n",
    "    for block, zone in enumerate(chunked_zones):\n",
    "        d = ImageDraw.Draw(img)\n",
    "        for x, wordlist in enumerate(zone):\n",
    "            n, c = len(wordlist), (x + 1) % 3\n",
    "            text_colour = tuple(random.sample(range(0, 255), 3))\n",
    "            if theme_colors:\n",
    "                text_color = tuple(theme_colors.pop())\n",
    "                print(f\"Use {text_color} from theme colors\")\n",
    "            text_params = {\"fill\": text_color, \"font\": font}\n",
    "            for y, word in enumerate(wordlist):\n",
    "                line_pos = (h_font * y) + (max_block_height * block)\n",
    "                d.text(\n",
    "                    (10 + int(max_char_width * 1.1) * x * scale, 20 + line_pos),\n",
    "                    word,\n",
    "                    **text_params,\n",
    "                )\n",
    "    if hide_axes:\n",
    "        ax = plt.axes([0, 0, 1, 1], frameon=False)\n",
    "        ax.get_xaxis().set_visible(False)\n",
    "        ax.get_yaxis().set_visible(False)\n",
    "        ax.get_xaxis().set_visible(False)\n",
    "    im_array = np.asarray(img)\n",
    "    plt.imshow(im_array)\n",
    "    plt.savefig(\"test.png\", optimize=True)\n",
    "\n",
    "\n",
    "canvas(hide_axes=True)"
   ]
  }
 ],
 "metadata": {
  "kernelspec": {
   "display_name": "Python 3",
   "language": "python",
   "name": "python3"
  },
  "language_info": {
   "codemirror_mode": {
    "name": "ipython",
    "version": 3
   },
   "file_extension": ".py",
   "mimetype": "text/x-python",
   "name": "python",
   "nbconvert_exporter": "python",
   "pygments_lexer": "ipython3",
   "version": "3.7.4"
  }
 },
 "nbformat": 4,
 "nbformat_minor": 2
}
