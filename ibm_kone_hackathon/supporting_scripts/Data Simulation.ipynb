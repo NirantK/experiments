{
 "cells": [
  {
   "cell_type": "code",
   "execution_count": 1,
   "metadata": {
    "collapsed": true
   },
   "outputs": [],
   "source": [
    "import scipy\n",
    "import pandas as pd\n",
    "import random\n",
    "import numpy as np\n",
    "import matplotlib.pyplot as plt"
   ]
  },
  {
   "cell_type": "code",
   "execution_count": 2,
   "metadata": {
    "collapsed": false
   },
   "outputs": [],
   "source": [
    "random.seed(27)"
   ]
  },
  {
   "cell_type": "code",
   "execution_count": 3,
   "metadata": {
    "collapsed": false
   },
   "outputs": [],
   "source": [
    "number_elevators = 2\n",
    "number_unique_people = 20\n",
    "number_of_floors = 100"
   ]
  },
  {
   "cell_type": "code",
   "execution_count": 4,
   "metadata": {
    "collapsed": false
   },
   "outputs": [],
   "source": [
    "def generate_people_flow(number_unique_people = 20, number_rows = 30, uppeak = 8, downpeak = 18, twopeak = 13):\n",
    "    people = np.random.randint(low = 0, high = number_unique_people, size = number_rows)\n",
    "    timestamp = np.random.randint(low = 1, high = number_rows*3, size = number_rows)\n",
    "    timestamp.sort()\n",
    "    pair = [['R'+str(people[i]), timestamp[i]] for i in xrange(0, number_rows)]\n",
    "    return pair"
   ]
  },
  {
   "cell_type": "code",
   "execution_count": 5,
   "metadata": {
    "collapsed": false
   },
   "outputs": [
    {
     "data": {
      "text/plain": [
       "[['R8', 3],\n",
       " ['R2', 5],\n",
       " ['R2', 13],\n",
       " ['R15', 17],\n",
       " ['R17', 21],\n",
       " ['R12', 21],\n",
       " ['R13', 23],\n",
       " ['R3', 23],\n",
       " ['R0', 27],\n",
       " ['R18', 27],\n",
       " ['R9', 30],\n",
       " ['R1', 30],\n",
       " ['R17', 32],\n",
       " ['R15', 33],\n",
       " ['R13', 37],\n",
       " ['R17', 43],\n",
       " ['R18', 45],\n",
       " ['R13', 52],\n",
       " ['R0', 56],\n",
       " ['R19', 65],\n",
       " ['R19', 67],\n",
       " ['R7', 69],\n",
       " ['R16', 69],\n",
       " ['R17', 75],\n",
       " ['R19', 77],\n",
       " ['R6', 77],\n",
       " ['R15', 80],\n",
       " ['R15', 84],\n",
       " ['R10', 87],\n",
       " ['R3', 89]]"
      ]
     },
     "execution_count": 5,
     "metadata": {},
     "output_type": "execute_result"
    }
   ],
   "source": [
    "people = generate_people_flow()\n",
    "people"
   ]
  },
  {
   "cell_type": "code",
   "execution_count": 6,
   "metadata": {
    "collapsed": false
   },
   "outputs": [],
   "source": [
    "# def start_destination(number_of_floors = 100):\n",
    "# #     low = random.randint(0, number_of_floors)\n",
    "#     start = random.randint(0, number_of_floors)\n",
    "#     end = random.randint(0, number_of_floors)\n",
    "#     return start, end"
   ]
  },
  {
   "cell_type": "code",
   "execution_count": 7,
   "metadata": {
    "collapsed": false
   },
   "outputs": [
    {
     "data": {
      "text/plain": [
       "[['R8', 3, 65, 70],\n",
       " ['R2', 5, 96, 19],\n",
       " ['R2', 13, 6, 83],\n",
       " ['R15', 17, 33, 37],\n",
       " ['R17', 21, 82, 18],\n",
       " ['R12', 21, 91, 49],\n",
       " ['R13', 23, 7, 92],\n",
       " ['R3', 23, 57, 7],\n",
       " ['R0', 27, 84, 78],\n",
       " ['R18', 27, 74, 66],\n",
       " ['R9', 30, 100, 1],\n",
       " ['R1', 30, 98, 64],\n",
       " ['R17', 32, 25, 61],\n",
       " ['R15', 33, 34, 65],\n",
       " ['R13', 37, 71, 52],\n",
       " ['R17', 43, 9, 39],\n",
       " ['R18', 45, 30, 75],\n",
       " ['R13', 52, 94, 78],\n",
       " ['R0', 56, 53, 17],\n",
       " ['R19', 65, 71, 26],\n",
       " ['R19', 67, 100, 17],\n",
       " ['R7', 69, 97, 1],\n",
       " ['R16', 69, 78, 34],\n",
       " ['R17', 75, 57, 41],\n",
       " ['R19', 77, 31, 44],\n",
       " ['R6', 77, 82, 35],\n",
       " ['R15', 80, 36, 78],\n",
       " ['R15', 84, 17, 36],\n",
       " ['R10', 87, 52, 52],\n",
       " ['R3', 89, 17, 77]]"
      ]
     },
     "execution_count": 7,
     "metadata": {},
     "output_type": "execute_result"
    }
   ],
   "source": [
    "data_rows = [[person[0],person[1], random.randint(0, number_of_floors), random.randint(0, number_of_floors)] for person in people]\n",
    "data_rows"
   ]
  },
  {
   "cell_type": "code",
   "execution_count": 8,
   "metadata": {
    "collapsed": false
   },
   "outputs": [],
   "source": [
    "name_elevators = ['C'+str(i) for i in xrange(1, number_elevators+1)]"
   ]
  },
  {
   "cell_type": "code",
   "execution_count": 9,
   "metadata": {
    "collapsed": false
   },
   "outputs": [
    {
     "data": {
      "text/plain": [
       "[0.4891359400429952, 0.09144773583552646]"
      ]
     },
     "execution_count": 9,
     "metadata": {},
     "output_type": "execute_result"
    }
   ],
   "source": [
    "lift_speed = [random.random() for i in xrange(1, number_elevators+1)]\n",
    "lift_speed"
   ]
  },
  {
   "cell_type": "code",
   "execution_count": 10,
   "metadata": {
    "collapsed": false
   },
   "outputs": [],
   "source": [
    "capacity_lift = 12"
   ]
  },
  {
   "cell_type": "code",
   "execution_count": 11,
   "metadata": {
    "collapsed": true
   },
   "outputs": [],
   "source": [
    "number_of_floors = 100"
   ]
  },
  {
   "cell_type": "code",
   "execution_count": 12,
   "metadata": {
    "collapsed": true
   },
   "outputs": [],
   "source": [
    "init_lift = [random.randint(0, number_of_floors) for i in xrange(1, number_elevators+1)]"
   ]
  },
  {
   "cell_type": "code",
   "execution_count": 13,
   "metadata": {
    "collapsed": false
   },
   "outputs": [
    {
     "data": {
      "text/plain": [
       "[34, 5]"
      ]
     },
     "execution_count": 13,
     "metadata": {},
     "output_type": "execute_result"
    }
   ],
   "source": [
    "init_lift"
   ]
  },
  {
   "cell_type": "code",
   "execution_count": 15,
   "metadata": {
    "collapsed": false
   },
   "outputs": [],
   "source": [
    "df = pd.DataFrame(data=data_rows, columns = ['Passenger_Id', 'Timestamp', 'Origin','Destination'])"
   ]
  },
  {
   "cell_type": "code",
   "execution_count": 18,
   "metadata": {
    "collapsed": false
   },
   "outputs": [],
   "source": [
    "df.to_csv(\"sample_data.csv\", encoding='utf-8', index = False)"
   ]
  },
  {
   "cell_type": "code",
   "execution_count": null,
   "metadata": {
    "collapsed": true
   },
   "outputs": [],
   "source": []
  }
 ],
 "metadata": {
  "kernelspec": {
   "display_name": "Python 2",
   "language": "python",
   "name": "python2"
  },
  "language_info": {
   "codemirror_mode": {
    "name": "ipython",
    "version": 2
   },
   "file_extension": ".py",
   "mimetype": "text/x-python",
   "name": "python",
   "nbconvert_exporter": "python",
   "pygments_lexer": "ipython2",
   "version": "2.7.6"
  }
 },
 "nbformat": 4,
 "nbformat_minor": 0
}
