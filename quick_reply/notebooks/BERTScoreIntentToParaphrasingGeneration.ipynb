{
 "cells": [
  {
   "cell_type": "markdown",
   "metadata": {},
   "source": [
    "# Imports"
   ]
  },
  {
   "cell_type": "code",
   "execution_count": 1,
   "metadata": {},
   "outputs": [],
   "source": [
    "# !pip install nlp\n",
    "# !pip install bert_score\n",
    "# !pip install git+https://github.com/google-research/bleurt.git\n",
    "from pathlib import Path\n",
    "\n",
    "import nlpaug.augmenter.word as naw\n",
    "import nlpaug.flow as nafc\n",
    "import pandas as pd\n",
    "import asyncio\n",
    "import aiohttp\n",
    "import json\n",
    "from aiohttp import ClientConnectorError, ClientSession\n",
    "from nlp import load_metric\n",
    "from sklearn.model_selection import train_test_split\n",
    "from tqdm.notebook import tqdm"
   ]
  },
  {
   "cell_type": "markdown",
   "metadata": {},
   "source": [
    "# Datapaths"
   ]
  },
  {
   "cell_type": "code",
   "execution_count": 2,
   "metadata": {},
   "outputs": [],
   "source": [
    "data_path = Path(\"../data\")\n",
    "assert data_path.exists()\n",
    "# textgen_path = Path(\"../data/textgen\")\n",
    "# assert textgen_path.exists()\n",
    "ground_truth_csv = data_path/\"predictions_with_groundtruth.csv\"\n",
    "assert ground_truth_csv.exists()\n",
    "keys_path = Path(\"key.json\")\n",
    "assert keys_path.exists()"
   ]
  },
  {
   "cell_type": "markdown",
   "metadata": {},
   "source": [
    "# For evaluation we're going to use BERTScore. \n",
    "BERTScore uses ContexualWordEmbeddings for similarity matching. "
   ]
  },
  {
   "cell_type": "code",
   "execution_count": 3,
   "metadata": {},
   "outputs": [],
   "source": [
    "bert_score = load_metric(\"bertscore\")"
   ]
  },
  {
   "cell_type": "code",
   "execution_count": 4,
   "metadata": {},
   "outputs": [
    {
     "name": "stdout",
     "output_type": "stream",
     "text": [
      "{'precision': tensor([0.9669]), 'recall': tensor([0.9669]), 'f1': tensor([0.9669]), 'hashcode': 'roberta-large_L17_no-idf_version=0.3.5(hug_trans=3.0.2)'}\n"
     ]
    }
   ],
   "source": [
    "y_pred = [\"This is a test sentence\"]\n",
    "y = [\"This is another test sentence\"]\n",
    "print(bert_score.compute(y_pred, y, lang=\"en\"))"
   ]
  },
  {
   "cell_type": "markdown",
   "metadata": {},
   "source": [
    "# Data : The refrence data will be sentences from \"Refunds\" from intent tagging dataset\n",
    "That gives us around 275 samples"
   ]
  },
  {
   "cell_type": "code",
   "execution_count": 125,
   "metadata": {},
   "outputs": [
    {
     "data": {
      "text/plain": [
       "(886, 2661)"
      ]
     },
     "execution_count": 125,
     "metadata": {},
     "output_type": "execute_result"
    }
   ],
   "source": [
    "intents = pd.read_csv(ground_truth_csv)[\n",
    "    [\"MessageId\", \"Message\", \"Ground Truth\"]\n",
    "].drop_duplicates()\n",
    "# intents = intents[intents[\"Ground Truth\"] == \"Refunds\"]\n",
    "intents_train, intents_test = train_test_split(intents, test_size=0.75)\n",
    "len(intents_train), len(intents_test)"
   ]
  },
  {
   "cell_type": "markdown",
   "metadata": {},
   "source": [
    "# NLP AUG\n",
    "To create a reference set on how the new paraphrased sentences should perfrom we will try to generate 1000 sentences from NLP Aug and GPT3 and check the BERTscore of the generated text. "
   ]
  },
  {
   "cell_type": "code",
   "execution_count": null,
   "metadata": {},
   "outputs": [],
   "source": []
  },
  {
   "cell_type": "markdown",
   "metadata": {},
   "source": [
    "# Approach 1 :  Generating prompt using keyword\n",
    "Here we will pass the keyword \"refunds\" and generate the phrasing"
   ]
  },
  {
   "cell_type": "code",
   "execution_count": 156,
   "metadata": {},
   "outputs": [],
   "source": [
    "def text_generation_prompt(train: pd.DataFrame) -> str:\n",
    "    output = [\n",
    "        f\"Keyword : {ele['Ground Truth']} \\nGenerated Sentence : {ele.Message}\\n\"\n",
    "        for _, ele in train.iterrows()\n",
    "    ]\n",
    "    return \"\\n\".join(output)"
   ]
  },
  {
   "cell_type": "code",
   "execution_count": 157,
   "metadata": {},
   "outputs": [
    {
     "data": {
      "text/plain": [
       "\"Keyword : CashOnDelivery \\nGenerated Sentence : This was the cash on delivery order which I placed before lockdown. Today I made a payment against this order to convert it to prepaid status and the amount has been deducted from my account\\n\\nKeyword : Courier \\nGenerated Sentence : regarding misbehaviour of courier agent. he refused to come at my place he was asking to come to their office and collect it. it almst take 2 hrs to reach there. this is your customer service??\\n\\nKeyword : Cancellations \\nGenerated Sentence : I requested refund but i received my order today so please cancel the refund\\n\\nKeyword : MissingItem \\nGenerated Sentence : product is missing\\n\\nKeyword : Cancellations \\nGenerated Sentence : I would like to cancel my orders due to the curent lockdown\\n\\nKeyword : DeliveryFailure \\nGenerated Sentence : I have received failed delivery of my 2 products please check if I can get refund or product\\n\\nKeyword : Refunds \\nGenerated Sentence : actually i ordered two products on may 19 and one product is to be delivered on 25 th may .the other one is to be pending .today i call to customer care they told the product is out of stock so that i cancelled the order and refund the amt..but before i call i check the catalog the product is there and shown the same product is available and i dont know how the product is out of stock\\n\\nKeyword : ChangeContact \\nGenerated Sentence : I have updated wrong mobile number while ordering....\\n\\nKeyword : TodayOrderDelivery \\nGenerated Sentence : Please tell me that today my order is coming or not because its showing that it will be deliver today but its in kolkata so how it will be delivered today\\n\\nKeyword : OffersVouchers&Discounts \\nGenerated Sentence : I had refer this app to my mother and the oder is delivered but i didn't get the discount code till now\\n\\nKeyword : DebitCard \\nGenerated Sentence : I have ordered few things & I have done my payment by debit card & go\\n\\nKeyword : Returns \\nGenerated Sentence : When will I get my return approved\\n\\nKeyword : Profane \\nGenerated Sentence : Nykaa fraudsters \\n \\n I have ordered 2 sanitizer worth 25 each but bloody you team cancelled the order and what the fuck nykaaa you initiated 23 each refund birch of sons where is the other 50 rupees let your food become flu bhastards fraudsters\\n\\nKeyword : Gifts \\nGenerated Sentence : This is my birthdAy month and after ordering I dont see receiving any gifts from nykaa ?\\n\\nKeyword : WhereIsMyOrder \\nGenerated Sentence : Where is my order\\n\\nKeyword : Cancellations \\nGenerated Sentence : I have canceled my delivery\\n\\nKeyword : OrderDelivery \\nGenerated Sentence : Why my order not delivered ?\\n\\nKeyword : Cancellations \\nGenerated Sentence : Where my order and how much time to received my order If not, I will cancel my order\\n\\nKeyword : ChangeAddress \\nGenerated Sentence : Can I change my shipping address\\n\\nKeyword : CreditCard \\nGenerated Sentence : I ordered n paid yesterday with my credit card\\n\\nKeyword : MissingItem \\nGenerated Sentence : I have ordered 3 items, one of the item is missing just before 10 minute I received my order\\n\\nKeyword : DeliveryFailure \\nGenerated Sentence : Hi it shows delivery failure need help\\n\\nKeyword : DeliveryPerson \\nGenerated Sentence : The delivery agent refused to deliver to my pincode\\n\\nKeyword : ChangeEmail \\nGenerated Sentence : I want to change my email address\\n\\nKeyword : CashOnDelivery \\nGenerated Sentence : I have the prepaid payment, but still the order details shows as COD\\n\\nKeyword : Gifts \\nGenerated Sentence : My birthday complimentary gift not added\\n\\nKeyword : ChangeAddress \\nGenerated Sentence : Can I change my ordered items delivery address\\n\\nKeyword : ChangeContact \\nGenerated Sentence : I place 2 order..by mistake my phone no is not correct.how to edit phone no in my order.\\n\\nKeyword : OrderPlacement \\nGenerated Sentence : I placed an order Due to covid 19 I am in fear....I should cancel the order and should order after cover 19 go slow...\\n\\nKeyword : ChangeAddress \\nGenerated Sentence : I put the wrong address on my order delivery , can I change it now ?\\n\""
      ]
     },
     "execution_count": 157,
     "metadata": {},
     "output_type": "execute_result"
    }
   ],
   "source": [
    "text_generation_prompt(intents_test.sample(30))"
   ]
  },
  {
   "cell_type": "code",
   "execution_count": 161,
   "metadata": {},
   "outputs": [],
   "source": [
    "async def fetch_GPT3_completion_response(\n",
    "    url: str, session: ClientSession, prompt, query\n",
    ") -> tuple:\n",
    "    headers = {\n",
    "        \"Content-Type\": \"application/json\",\n",
    "        \"Authorization\": f'Bearer {json.load(keys_path.open(\"r\"))[\"api_key\"]}',\n",
    "    }\n",
    "    try:\n",
    "        prompt = text_generation_prompt(prompt.sample(30))\n",
    "        data = json.dumps(\n",
    "            {\n",
    "                \"prompt\": prompt + f\"\\nKeyword : {query}\",\n",
    "                \"max_tokens\": 500,\n",
    "                #                 \"logprobs\": 10,\n",
    "                \"temperature\": 0.65,\n",
    "                \"frequency_penalty\": 0.80,\n",
    "                \"presence_penalty\": 0.80,\n",
    "            }\n",
    "        )\n",
    "        resp = await session.request(method=\"POST\", url=url, headers=headers, data=data)\n",
    "    except ClientConnectorError:\n",
    "        return (\"error\", row.MessageId, query_intent)\n",
    "    r = await resp.json()\n",
    "    try:\n",
    "        output = r[\"choices\"][0][\"text\"].split(\"\\n\\n\")\n",
    "        output = [\n",
    "            o[o.find(\"\\nGenerated Sentence :\") + len(\"\\nGenerated Sentence :\") :]\n",
    "            for o in output\n",
    "        ]\n",
    "    except:\n",
    "        output = r[\"choices\"][0][\"text\"].split(\"\\n\\n\")\n",
    "    return {\"query\" : query, \"output\" : output}"
   ]
  },
  {
   "cell_type": "code",
   "execution_count": 162,
   "metadata": {},
   "outputs": [],
   "source": [
    "async def make_requests_completions(query_list, intent_prompt) -> None:\n",
    "    async with ClientSession() as session:\n",
    "        tasks = []\n",
    "        url = \"https://api.openai.com/v1/engines/curie/completions\"\n",
    "        for query in query_list:\n",
    "            tasks.append(\n",
    "                fetch_GPT3_completion_response(\n",
    "                    url=url, session=session, prompt=intent_prompt, query=query,\n",
    "                )\n",
    "            )\n",
    "        results = [await f for f in tqdm(asyncio.as_completed(tasks), total=len(tasks))]\n",
    "    return results"
   ]
  },
  {
   "cell_type": "code",
   "execution_count": 166,
   "metadata": {},
   "outputs": [
    {
     "data": {
      "application/vnd.jupyter.widget-view+json": {
       "model_id": "f85de2e3a1264e73add2c48fbd2e6025",
       "version_major": 2,
       "version_minor": 0
      },
      "text/plain": [
       "HBox(children=(FloatProgress(value=0.0, max=3.0), HTML(value='')))"
      ]
     },
     "metadata": {},
     "output_type": "display_data"
    },
    {
     "name": "stdout",
     "output_type": "stream",
     "text": [
      "\n"
     ]
    }
   ],
   "source": [
    "results = await make_requests_completions(\n",
    "    query_list = [\"Refunds\", \"Returns\", \"CashOnDelivery\"], intent_prompt=intents_test,\n",
    "    )"
   ]
  },
  {
   "cell_type": "code",
   "execution_count": 167,
   "metadata": {},
   "outputs": [
    {
     "data": {
      "text/plain": [
       "[{'query': 'Refunds',\n",
       "  'output': [' I want to get my money back. I placed an order but did not receive the product yet',\n",
       "   ' Hi, i have placed a nykaa order yesterday and its still not delivered? Please do something about this matter. Thanks in advance for your help. Regards, Shweta Chhabra (in reply to: please look into it as soon as possible)',\n",
       "   '']},\n",
       " {'query': 'Returns',\n",
       "  'output': [' The mobile phone is defective and I want to return it, but my order id number is not matching with the refund code. So what should I do?',\n",
       "   ' What are the terms of returns on NYKA website? Is there any option to get a refund in case of product defect or if they have delivered an incorrect product? And why do you take so long for refund/exchange? When will my money be returned back to me ?? Please revert as soon as possible. Thank You!!',\n",
       "   '']},\n",
       " {'query': 'CashOnDelivery',\n",
       "  'output': [' Cash on delivery service is not available now. Please contact your retailer to get cash on delivery',\n",
       "   ' i want to change my email id which is currently registered with the company.. its currently registered with a different email address.. kindly help me in changing this email id?',\n",
       "   \" I have placed an order and today it has been delivered but one product that was supposed to be deliver at 9:30 am , got delivered at 2:00 pm . What will happen if they don't pack the remaining products by 4:30 pm ? If no one comes back for rest of the day then how can i claim refund for those products that are yet to be delivered. There should be a backup plan in place or else we might face such situations where customers wont return till they get their entire order as promised...kindly take care of such issues so that you dont lose any customer because of some unforeseen circumstances...also try providing us online tracking system since most people like myself, log into your site using mobile and often times there are issues with connectivity, which could result in getting lost track...i know u cant provide all these things but still there should be something which could give us an idea about our orders....just once every 3 days would do good....a small step towards betterment would also do good for u guys.. thanks in advance ! (sic) :) :) :) !!!!\"]}]"
      ]
     },
     "execution_count": 167,
     "metadata": {},
     "output_type": "execute_result"
    }
   ],
   "source": [
    "results"
   ]
  },
  {
   "cell_type": "markdown",
   "metadata": {},
   "source": [
    "# Approach 2 : Paraphraseing"
   ]
  },
  {
   "cell_type": "code",
   "execution_count": 109,
   "metadata": {},
   "outputs": [
    {
     "data": {
      "text/plain": [
       "\"Sentence : My refund is pending since 6 months, i tried contacting the customer care many times but they don't reply back. Plz help me with this issue .\\nParaphrased Sentence : I have been waiting for my refund for six months, several times I tried to contact the customers, but they do not comment. Plz support me to solve this issue.\\n\\nSentence : The video of Topen’s dancing has racked up more than 400,000 views since it was posted on YouTube last week, and the plumber says he’s already been approached in public for his autograph.\\nParaphrased Sentence :  Even though the YouTube video of the dancing plumber was only posted last week, it has already had more than 400,000 views. Topen has become an almost instant celebrity as strangers have even asked him for autographs\\n\""
      ]
     },
     "execution_count": 109,
     "metadata": {},
     "output_type": "execute_result"
    }
   ],
   "source": [
    "def text_generation_prompt() -> str:\n",
    "    output = \"\"\"Sentence : My refund is pending since 6 months, i tried contacting the customer care many times but they don't reply back. Plz help me with this issue .\n",
    "Paraphrased Sentence : I have been waiting for my refund for six months, several times I tried to contact the customers, but they do not comment. Plz support me to solve this issue.\n",
    "\n",
    "Sentence : The video of Topen’s dancing has racked up more than 400,000 views since it was posted on YouTube last week, and the plumber says he’s already been approached in public for his autograph.\n",
    "Paraphrased Sentence :  Even though the YouTube video of the dancing plumber was only posted last week, it has already had more than 400,000 views. Topen has become an almost instant celebrity as strangers have even asked him for autographs\n",
    "\"\"\"\n",
    "    return output\n",
    "text_generation_prompt()"
   ]
  },
  {
   "cell_type": "code",
   "execution_count": 120,
   "metadata": {},
   "outputs": [],
   "source": [
    "async def fetch_GPT3_completion_response(\n",
    "    url: str, session: ClientSession, query\n",
    ") -> tuple:\n",
    "    headers = {\n",
    "        \"Content-Type\": \"application/json\",\n",
    "        \"Authorization\": f'Bearer {json.load(keys_path.open(\"r\"))[\"api_key\"]}',\n",
    "    }\n",
    "    try:\n",
    "        prompt = text_generation_prompt()\n",
    "        data = json.dumps(\n",
    "            {\n",
    "                \"prompt\": prompt + f\"\\n\\nSentence :{query}\\n\",\n",
    "                \"max_tokens\": 50,\n",
    "                #                 \"logprobs\": 10,\n",
    "                \"temperature\": 0.45,\n",
    "                \"frequency_penalty\": 0.80,\n",
    "                \"presence_penalty\": 0.80,\n",
    "            }\n",
    "        )\n",
    "        resp = await session.request(method=\"POST\", url=url, headers=headers, data=data)\n",
    "    except ClientConnectorError:\n",
    "        return (\"error\", row.MessageId, query_intent)\n",
    "    r = await resp.json()\n",
    "    return query, r[\"choices\"][0][\"text\"]"
   ]
  },
  {
   "cell_type": "code",
   "execution_count": 121,
   "metadata": {},
   "outputs": [],
   "source": [
    "async def make_requests_completions(query_list) -> None:\n",
    "    async with ClientSession() as session:\n",
    "        tasks = []\n",
    "        url = \"https://api.openai.com/v1/engines/curie/completions\"\n",
    "        for query in query_list:\n",
    "            tasks.append(\n",
    "                fetch_GPT3_completion_response(\n",
    "                    url=url, session=session, query=query,\n",
    "                )\n",
    "            )\n",
    "        results = [await f for f in tqdm(asyncio.as_completed(tasks), total=len(tasks))]\n",
    "    return results"
   ]
  },
  {
   "cell_type": "code",
   "execution_count": 124,
   "metadata": {},
   "outputs": [
    {
     "data": {
      "application/vnd.jupyter.widget-view+json": {
       "model_id": "ad8fa500fe5748459b138f63b8fc3ad1",
       "version_major": 2,
       "version_minor": 0
      },
      "text/plain": [
       "HBox(children=(FloatProgress(value=0.0, max=1.0), HTML(value='')))"
      ]
     },
     "metadata": {},
     "output_type": "display_data"
    },
    {
     "name": "stdout",
     "output_type": "stream",
     "text": [
      "\n"
     ]
    },
    {
     "data": {
      "text/plain": [
       "[('How does paraphrasing work in this model?',\n",
       "  'Paraphrased Sentence : Paraphrasing is a process of using the same word or phrase in different ways. In this case, the paraphrase model will use “The video of Topen’s dancing has racked up more')]"
      ]
     },
     "execution_count": 124,
     "metadata": {},
     "output_type": "execute_result"
    }
   ],
   "source": [
    "await make_requests_completions([\"How does paraphrasing work in this model?\"])"
   ]
  },
  {
   "cell_type": "code",
   "execution_count": null,
   "metadata": {},
   "outputs": [],
   "source": []
  },
  {
   "cell_type": "code",
   "execution_count": null,
   "metadata": {},
   "outputs": [],
   "source": []
  }
 ],
 "metadata": {
  "kernelspec": {
   "display_name": "Python 3",
   "language": "python",
   "name": "python3"
  },
  "language_info": {
   "codemirror_mode": {
    "name": "ipython",
    "version": 3
   },
   "file_extension": ".py",
   "mimetype": "text/x-python",
   "name": "python",
   "nbconvert_exporter": "python",
   "pygments_lexer": "ipython3",
   "version": "3.7.3"
  }
 },
 "nbformat": 4,
 "nbformat_minor": 4
}
