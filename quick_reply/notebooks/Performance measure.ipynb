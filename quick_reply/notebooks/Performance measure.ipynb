{
 "cells": [
  {
   "cell_type": "code",
   "execution_count": 1,
   "metadata": {},
   "outputs": [
    {
     "name": "stderr",
     "output_type": "stream",
     "text": [
      "/Users/meghanabhange/.pyenv/versions/3.7.3/lib/python3.7/site-packages/tqdm/std.py:658: FutureWarning: The Panel class is removed from pandas. Accessing it from the top-level namespace will also be removed in the next version\n",
      "  from pandas import Panel\n"
     ]
    }
   ],
   "source": [
    "import datetime\n",
    "import json\n",
    "import sys\n",
    "sys.path.insert(0, '../src')\n",
    "\n",
    "import warnings\n",
    "from multiprocessing import Pool\n",
    "from threading import Thread\n",
    "\n",
    "import jsonlines\n",
    "import pandas as pd\n",
    "import seaborn as sns\n",
    "from fuzzywuzzy import process\n",
    "from intents import *\n",
    "from matplotlib import pyplot as plt\n",
    "from matplotlib.pyplot import figure\n",
    "from p_tqdm import p_umap\n",
    "from sklearn.metrics import (accuracy_score, confusion_matrix,\n",
    "                             precision_recall_fscore_support)\n",
    "from tqdm import tqdm\n",
    "from utils import print_confusion_matrix\n",
    "from IPython.display import clear_output\n",
    "import random\n",
    "from sklearn import preprocessing\n",
    "\n",
    "le = preprocessing.LabelEncoder()\n",
    "tqdm.pandas()"
   ]
  },
  {
   "cell_type": "code",
   "execution_count": 2,
   "metadata": {},
   "outputs": [],
   "source": [
    "verloop_intents = json.load(open(\"../data/verloop_intents.json\"))"
   ]
  },
  {
   "cell_type": "code",
   "execution_count": 3,
   "metadata": {},
   "outputs": [],
   "source": [
    "df_preds = pd.read_csv(\"../data/predictions_with_groundtruth.csv\")\n",
    "df_preds = df_preds[df_preds[\"MessageId\"] != \"zoJ8RNwzaLxPTzW9x\"] # FALSE as a intent"
   ]
  },
  {
   "cell_type": "code",
   "execution_count": 4,
   "metadata": {},
   "outputs": [],
   "source": [
    "def load_and_merge(field:str)->pd.DataFrame:\n",
    "    output = []\n",
    "    for obj in jsonlines.open(f\"../data/davinci_{field}.jsonl\"):\n",
    "        output.append(obj)\n",
    "    df_out = pd.DataFrame(output)\n",
    "    df_out = df_out[[\"MessageId\", \"Message\", \"predicted\", \"logprobs\"]].merge(\n",
    "        df_preds[[\"MessageId\", \"VerdanPrediction\", \"Ground Truth\"]], how=\"left\"\n",
    "    )\n",
    "    clear_output()\n",
    "    return df_out"
   ]
  },
  {
   "cell_type": "code",
   "execution_count": 5,
   "metadata": {},
   "outputs": [],
   "source": [
    "def measure_pref(df_out):\n",
    "    le.fit(df_out[\"Ground Truth\"])\n",
    "    y_pred_gpt = le.transform(df_out[\"predicted\"])\n",
    "    y_pred_verdan = le.transform(df_out[\"VerdanPrediction\"])\n",
    "    y = le.transform(df_out[\"Ground Truth\"])\n",
    "    print(f\"Number of samples : {len(df_out)}\")\n",
    "    print(\"Verdan Scores\")\n",
    "    print_scores(y_pred_verdan, y)\n",
    "    print(\"GPT3 Scores\")\n",
    "    print_scores(y_pred_gpt, y)\n",
    "    \n",
    "def print_scores(y_pred, y):\n",
    "    print(f'Accuracy : {accuracy_score(y_pred, y)}')\n",
    "    print(f'PRF : {precision_recall_fscore_support(y_pred, y, average=\"micro\")}')"
   ]
  },
  {
   "cell_type": "code",
   "execution_count": 7,
   "metadata": {},
   "outputs": [
    {
     "name": "stdout",
     "output_type": "stream",
     "text": [
      "Number of samples : 3728\n",
      "Verdan Scores\n",
      "Accuracy : 0.9670064377682404\n",
      "PRF : (0.9670064377682404, 0.9670064377682404, 0.9670064377682404, None)\n",
      "GPT3 Scores\n",
      "Accuracy : 0.7288090128755365\n",
      "PRF : (0.7288090128755365, 0.7288090128755365, 0.7288090128755363, None)\n"
     ]
    }
   ],
   "source": [
    "field = \"Refunds\"\n",
    "df_out = load_and_merge(field) \n",
    "df_out[\"predicted\"] = df_out[\"predicted\"].apply(lambda x : x if x==field else f\"Not {field}\")\n",
    "df_out[\"VerdanPrediction\"] = df_out[\"VerdanPrediction\"].apply(lambda x : x if x==field else f\"Not {field}\")\n",
    "df_out[\"Ground Truth\"] = df_out[\"Ground Truth\"].apply(lambda x : x if x==field else f\"Not {field}\")\n",
    "measure_pref(df_out)"
   ]
  },
  {
   "cell_type": "code",
   "execution_count": 9,
   "metadata": {},
   "outputs": [
    {
     "name": "stdout",
     "output_type": "stream",
     "text": [
      "Number of samples : 3732\n",
      "Verdan Scores\n",
      "Accuracy : 0.979903536977492\n",
      "PRF : (0.979903536977492, 0.979903536977492, 0.979903536977492, None)\n",
      "GPT3 Scores\n",
      "Accuracy : 0.7130225080385852\n",
      "PRF : (0.7130225080385852, 0.7130225080385852, 0.7130225080385851, None)\n"
     ]
    }
   ],
   "source": [
    "field = \"OrderDelivery\"\n",
    "df_out = load_and_merge(field)\n",
    "df_out[\"predicted\"] = df_out[\"predicted\"].apply(lambda x : x if x==field else f\"Not {field}\")\n",
    "df_out[\"VerdanPrediction\"] = df_out[\"VerdanPrediction\"].apply(lambda x : x if x==field else f\"Not {field}\")\n",
    "df_out[\"Ground Truth\"] = df_out[\"Ground Truth\"].apply(lambda x : x if x==field else f\"Not {field}\")\n",
    "measure_pref(df_out)"
   ]
  },
  {
   "cell_type": "code",
   "execution_count": 10,
   "metadata": {},
   "outputs": [
    {
     "name": "stdout",
     "output_type": "stream",
     "text": [
      "Number of samples : 3730\n",
      "Verdan Scores\n",
      "Accuracy : 0.9828418230563003\n",
      "PRF : (0.9828418230563003, 0.9828418230563003, 0.9828418230563003, None)\n",
      "GPT3 Scores\n",
      "Accuracy : 0.9597855227882037\n",
      "PRF : (0.9597855227882037, 0.9597855227882037, 0.9597855227882037, None)\n"
     ]
    }
   ],
   "source": [
    "field = \"Cancellations\"\n",
    "df_out = load_and_merge(field)\n",
    "df_out[\"predicted\"] = df_out[\"predicted\"].apply(lambda x : x if x==field else f\"Not {field}\")\n",
    "df_out[\"VerdanPrediction\"] = df_out[\"VerdanPrediction\"].apply(lambda x : x if x==field else f\"Not {field}\")\n",
    "df_out[\"Ground Truth\"] = df_out[\"Ground Truth\"].apply(lambda x : x if x==field else f\"Not {field}\")\n",
    "measure_pref(df_out)"
   ]
  },
  {
   "cell_type": "code",
   "execution_count": 11,
   "metadata": {},
   "outputs": [
    {
     "name": "stdout",
     "output_type": "stream",
     "text": [
      "Number of samples : 3730\n",
      "Verdan Scores\n",
      "Accuracy : 0.9780160857908847\n",
      "PRF : (0.9780160857908847, 0.9780160857908847, 0.9780160857908847, None)\n",
      "GPT3 Scores\n",
      "Accuracy : 0.9581769436997319\n",
      "PRF : (0.9581769436997319, 0.9581769436997319, 0.9581769436997319, None)\n"
     ]
    }
   ],
   "source": [
    "field = \"OrderReceiving\"\n",
    "df_out = load_and_merge(field)\n",
    "df_out[\"predicted\"] = df_out[\"predicted\"].apply(lambda x : x if x==field else f\"Not {field}\")\n",
    "df_out[\"VerdanPrediction\"] = df_out[\"VerdanPrediction\"].apply(lambda x : x if x==field else f\"Not {field}\")\n",
    "df_out[\"Ground Truth\"] = df_out[\"Ground Truth\"].apply(lambda x : x if x==field else f\"Not {field}\")\n",
    "measure_pref(df_out)"
   ]
  },
  {
   "cell_type": "code",
   "execution_count": 12,
   "metadata": {},
   "outputs": [
    {
     "name": "stdout",
     "output_type": "stream",
     "text": [
      "Number of samples : 3270\n",
      "Verdan Scores\n",
      "Accuracy : 0.9721712538226299\n",
      "PRF : (0.9721712538226299, 0.9721712538226299, 0.9721712538226299, None)\n",
      "GPT3 Scores\n",
      "Accuracy : 0.972782874617737\n",
      "PRF : (0.972782874617737, 0.972782874617737, 0.972782874617737, None)\n"
     ]
    }
   ],
   "source": [
    "field = \"OrderPlacement\"\n",
    "df_out = load_and_merge(field)\n",
    "df_out[\"predicted\"] = df_out[\"predicted\"].apply(lambda x : x if x==field else f\"Not {field}\")\n",
    "df_out[\"VerdanPrediction\"] = df_out[\"VerdanPrediction\"].apply(lambda x : x if x==field else f\"Not {field}\")\n",
    "df_out[\"Ground Truth\"] = df_out[\"Ground Truth\"].apply(lambda x : x if x==field else f\"Not {field}\")\n",
    "measure_pref(df_out)"
   ]
  }
 ],
 "metadata": {
  "kernelspec": {
   "display_name": "Python 3",
   "language": "python",
   "name": "python3"
  },
  "language_info": {
   "codemirror_mode": {
    "name": "ipython",
    "version": 3
   },
   "file_extension": ".py",
   "mimetype": "text/x-python",
   "name": "python",
   "nbconvert_exporter": "python",
   "pygments_lexer": "ipython3",
   "version": "3.7.3"
  }
 },
 "nbformat": 4,
 "nbformat_minor": 4
}
