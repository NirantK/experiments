{
 "cells": [
  {
   "cell_type": "code",
   "execution_count": 2,
   "metadata": {},
   "outputs": [],
   "source": [
    "# !pip install -U transformers \n",
    "# !pip install mosestokenizer"
   ]
  },
  {
   "cell_type": "code",
   "execution_count": 3,
   "metadata": {},
   "outputs": [],
   "source": []
  },
  {
   "cell_type": "code",
   "execution_count": 15,
   "metadata": {},
   "outputs": [],
   "source": [
    "def translate(texts, model, tokenizer, language=\"fr\"):\n",
    "    \"\"\"\n",
    "    \"\"\"\n",
    "    # Prepare the text data into appropriate format for the model\n",
    "    template = lambda text: f\"{text}\" if language == \"en\" else f\">>{language}<< {text}\"\n",
    "    src_texts = [template(text) for text in texts]\n",
    "    print(src_texts)\n",
    "    # Tokenize the texts\n",
    "    encoded = tokenizer.prepare_seq2seq_batch(src_texts)\n",
    "    \n",
    "    # Generate translation using model\n",
    "    translated = model.generate(**encoded)\n",
    "\n",
    "    # Convert the generated tokens indices back into text\n",
    "    translated_texts = tokenizer.batch_decode(translated, skip_special_tokens=True)\n",
    "    \n",
    "    return translated_texts"
   ]
  },
  {
   "cell_type": "code",
   "execution_count": 32,
   "metadata": {},
   "outputs": [],
   "source": [
    "def prep_model_tokenizer(romance_lang: str = \"es\"):\n",
    "    ROMANCE = romance_lang\n",
    "    target_model_name = f\"Helsinki-NLP/opus-mt-en-{ROMANCE}\"\n",
    "    target_tokenizer = MarianTokenizer.from_pretrained(target_model_name)\n",
    "    target_model = MarianMTModel.from_pretrained(target_model_name)\n",
    "\n",
    "    en_model_name = f\"Helsinki-NLP/opus-mt-{ROMANCE}-en\"\n",
    "    en_tokenizer = MarianTokenizer.from_pretrained(en_model_name)\n",
    "    en_model = MarianMTModel.from_pretrained(en_model_name)\n",
    "    return en_model, en_tokenizer, target_model, target_tokenizer"
   ]
  },
  {
   "cell_type": "code",
   "execution_count": 30,
   "metadata": {},
   "outputs": [],
   "source": [
    "def back_translate(texts, source_lang=\"en\", target_lang=\"fr\"):\n",
    "    \"\"\"\n",
    "    Paraphrasing via Back Translation\n",
    "    \"\"\"\n",
    "    en_model, en_tokenizer, target_model, target_tokenizer = prep_model_tokenizer(\n",
    "        romance_lang=target_lang\n",
    "    )\n",
    "\n",
    "    # Translate from source to target language\n",
    "    fr_texts = translate(texts, target_model, target_tokenizer, language=target_lang)\n",
    "\n",
    "    # Translate from target language back to source language\n",
    "    back_translated_texts = translate(\n",
    "        fr_texts, en_model, en_tokenizer, language=source_lang\n",
    "    )\n",
    "\n",
    "    return back_translated_texts"
   ]
  },
  {
   "cell_type": "code",
   "execution_count": 36,
   "metadata": {},
   "outputs": [
    {
     "name": "stdout",
     "output_type": "stream",
     "text": [
      "['>>zh<< cancel my card please', '>>zh<< What is my account balance?', '>>zh<< Where is my refund?']\n",
      "['請取消我的名片', '我的账户余额是多少?', '我的退款呢?']\n",
      "['>>es<< Please cancel my card.', \">>es<< What's my account balance?\", \">>es<< Where's my refund?\"]\n",
      "['Por favor, cancela mi tarjeta.', '¿Cuál es el saldo de mi cuenta?', '¿Dónde está mi reembolso?']\n",
      "['Please cancel my card.', \"What's the balance on my account?\", \"Where's my refund?\"]\n"
     ]
    }
   ],
   "source": [
    "en_texts = [\n",
    "    \"cancel my card please\",\n",
    "    \"What is my account balance?\",\n",
    "    \"Where is my refund?\",\n",
    "]\n",
    "\n",
    "aug_texts = back_translate(\n",
    "    back_translate(en_texts, source_lang=\"en\", target_lang=\"zh\"),\n",
    "    source_lang=\"en\",\n",
    "    target_lang=\"es\",\n",
    ")\n",
    "print(aug_texts)"
   ]
  }
 ],
 "metadata": {
  "kernelspec": {
   "display_name": "Python 3",
   "language": "python",
   "name": "python3"
  },
  "language_info": {
   "codemirror_mode": {
    "name": "ipython",
    "version": 3
   },
   "file_extension": ".py",
   "mimetype": "text/x-python",
   "name": "python",
   "nbconvert_exporter": "python",
   "pygments_lexer": "ipython3",
   "version": "3.7.9"
  }
 },
 "nbformat": 4,
 "nbformat_minor": 4
}
