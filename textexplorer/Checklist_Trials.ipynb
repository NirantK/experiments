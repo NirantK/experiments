{
 "cells": [
  {
   "cell_type": "code",
   "execution_count": 185,
   "metadata": {},
   "outputs": [
    {
     "data": {
      "text/plain": [
       "array(['Joe is a doctor from Suriname.',\n",
       "       'Harold is an accountant from Bosnia and Herzegovina.',\n",
       "       'Billy is an accountant from Russia.'], dtype='<U67')"
      ]
     },
     "execution_count": 185,
     "metadata": {},
     "output_type": "execute_result"
    }
   ],
   "source": [
    "import checklist\n",
    "from checklist.editor import Editor\n",
    "import numpy as np\n",
    "editor = Editor()\n",
    "ret = editor.template('{first_name} is {a:profession} from {country}.',\n",
    "                       profession=['lawyer', 'doctor', 'accountant'])\n",
    "np.random.choice(ret.data, 3)"
   ]
  },
  {
   "cell_type": "code",
   "execution_count": 186,
   "metadata": {},
   "outputs": [
    {
     "name": "stderr",
     "output_type": "stream",
     "text": [
      "Some weights of RobertaForMaskedLM were not initialized from the model checkpoint at roberta-base and are newly initialized: ['lm_head.decoder.bias']\n",
      "You should probably TRAIN this model on a down-stream task to be able to use it for predictions and inference.\n"
     ]
    },
    {
     "data": {
      "text/plain": [
       "['This is a good idea.', 'This is a good example.', 'This is a good sign.']"
      ]
     },
     "execution_count": 186,
     "metadata": {},
     "output_type": "execute_result"
    }
   ],
   "source": [
    "ret = editor.template('This is {a:adj} {mask}.',  \n",
    "                      adj=['good', 'bad', 'great', 'terrible'])\n",
    "ret.data[:3]"
   ]
  },
  {
   "cell_type": "code",
   "execution_count": 240,
   "metadata": {},
   "outputs": [],
   "source": [
    "insurance_type = [\"travel\", \"motor\", \"life\", \"term\", \"health/medicare\", \"disability\", \"renters\", \"home\", \"housing\", \"long term care\", \"property\"]\n",
    "insurance_action = [\"renew\", \"buy\", \"compare\", \"find\", \"claim status\", \"file claim\", \"request quote\", \"quote\"]\n",
    "insurance_names = [\"coverage\", \"insurance\", \"policy\", \"insurance policy\"]\n",
    "change_synonyms = ['change', 'provide', 'clarify', 'update', 'confirm', 'check', 'reset']\n",
    "insurance_information = [\"maturity policy\", \"policy\", \"returns\", \"maturity terms\", \"date\"]\n",
    "policy_terms = [x.lower() for x in [\"premium\",\"Actual cash value (ACV)\",\"Agreed value\",\"Stated Value\",\"renewal\",\"Expiry\",\"Maturity\",\"Maturity amount\",\"beneficiary\",\"Deductible\",\"Exclusion\",\"Lapse\",\"Mitigation\",\"Lien\"]]\n",
    "client_credentials = [\"phone number\", \"address\", \"form details\", \"contact\", \"mobile number\", \"email\", \"email id\"]\n",
    "coverage_types = [\"Comprehensive\",\"Collision\",\"Natural Calamity\",\"Bodily Injury\",\"Medical Payments\",\"Riot\",\"Theft\"]"
   ]
  },
  {
   "cell_type": "code",
   "execution_count": 237,
   "metadata": {},
   "outputs": [],
   "source": [
    "template_info = [\n",
    "    {\"templates\":\"{mask} {mask} {verb:insurance_action} for {insurance_type} {insurance_names} {mask}\", \"labels\": \"ask_for_info\"},\n",
    "    {\"templates\":\"{verb:insurance_action} {mask} to {insurance_type} {insurance_names}\", \"labels\":\"ask_for_info\"},\n",
    "    {\"templates\":\"I want to {mask} {p1:policy_terms} of {insurance_type} {insurance_names}\",\"labels\": \"ASK_DEEPAK\"},\n",
    "    {\"templates\":\"When {mask} {mask} {insurance_names} mature?\",\"labels\": \"ask_for_info\"},\n",
    "    {\"templates\":\"I {mask} to file {mask} {mask} {insurance_type} {insurance_names} claim\",\"labels\": \"ask_for_info\"},\n",
    "    {\"templates\":\"What {mask} {mask} my claim status?\",\"labels\": \"ask_for_info\"},\n",
    "    {\"templates\":\"{mask} {policy_terms} {insurance_names}\",\"labels\": \"ask_for_info\"},\n",
    "    {\"templates\":\"{change_synonyms} {client_credentials} and {mask}\",\"labels\": \"give_info\"},\n",
    "    {\"templates\":\"{change_synonyms} {mask} {client_credentials}\",\"labels\": \"give_info\"},\n",
    "    {\"templates\":\"{mask} to {change_synonyms} my communication {client_credentials}\",\"labels\": \"give_info\"},\n",
    "]"
   ]
  },
  {
   "cell_type": "code",
   "execution_count": 238,
   "metadata": {},
   "outputs": [],
   "source": [
    "def get_insurance_generations(template, nsamples=10):\n",
    "    return editor.template(\n",
    "        **template,\n",
    "        insurance_type=insurance_type,\n",
    "        insurance_action=insurance_action,\n",
    "        insurance_names=insurance_names,\n",
    "        policy_terms=policy_terms,\n",
    "        change_synonyms=change_synonyms,\n",
    "        client_credentials=client_credentials,\n",
    "        remove_duplicates=True,\n",
    "        nsamples=nsamples,\n",
    "        meta=True,\n",
    "    )\n",
    "\n",
    "\n",
    "filled_in_info = get_insurance_generations(template_info[1], nsamples=10)\n",
    "filled_in_info.data, filled_in_info.meta, filled_in_info.labels"
   ]
  },
  {
   "cell_type": "code",
   "execution_count": 332,
   "metadata": {},
   "outputs": [
    {
     "data": {
      "text/plain": [
       "['Smiles',\n",
       " 'Emirates',\n",
       " 'Cashback',\n",
       " 'Skywards',\n",
       " 'Rewards',\n",
       " 'visa charges',\n",
       " 'Etihad',\n",
       " 'Skyward',\n",
       " 'Booking.com',\n",
       " 'Spice']"
      ]
     },
     "execution_count": 332,
     "metadata": {},
     "output_type": "execute_result"
    }
   ],
   "source": []
  },
  {
   "cell_type": "code",
   "execution_count": 433,
   "metadata": {
    "code_folding": [
     5,
     29
    ]
   },
   "outputs": [],
   "source": [
    "account_types = [\n",
    "    \"savings\",\n",
    "    \"salary\",\n",
    "    \"ADIB\",l\n",
    "    \"Ghina\",\n",
    "    \"current\",\n",
    "    \"recurring deposit\",\n",
    "    \"fixed deposit\",\n",
    "    \"loan\",\n",
    "    \"demat\",\n",
    "]\n",
    "qualifiers = [\"I\", \"we\"]\n",
    "loan_types = [\"car\", \"travel\", \"personal\", \"student\", \"education\", \"housing\", \"home\"]\n",
    "debt_synonyms = [\"financing\", \"debt\", \"loan\", \"finance\"]\n",
    "card_synonyms = [\"card\", \"covered card\", \"credit card\", \"debit card\", \"atm card\"]\n",
    "card_brands = [\n",
    "    \"Smiles\",\n",
    "    \"Emirates\",\n",
    "    \"Cashback\",\n",
    "    \"Skywards\",\n",
    "    \"Rewards\",\n",
    "    \"Etihad\",\n",
    "    \"Skyward\",\n",
    "    \"Booking.com\",\n",
    "    \"Spice\",\n",
    "]\n",
    "\n",
    "account_info_terms = [\n",
    "    \"features\",\n",
    "    \"interest rates\",\n",
    "    \"charges\",\n",
    "    \"details\",\n",
    "    \"fees\",\n",
    "    \"balance\",\n",
    "]\n",
    "debt_info_terms = [\n",
    "    \"amount due\",\n",
    "    \"due amount\",\n",
    "    \"payment date\",\n",
    "    \"installment\",\n",
    "]\n",
    "action = [\"apply\", \"get\", \"open\"]\n",
    "close = [\"nearest\", \"nearby\"]\n",
    "find_close = [\"how close is the\", \"where is the\", \"need to go to\", \"ADIB\"]\n",
    "find_what = [\n",
    "    \"ATM\",\n",
    "    \"branch\",\n",
    "    \"branches\",\n",
    "    \"loan agent\",\n",
    "    \"cash deposit machine\",\n",
    "    \"cheque deposit machine\",\n",
    "    \"cash withdrawal\",\n",
    "    \"ccdm\",\n",
    "    \"cash withdraw machine\",\n",
    "]\n",
    "inform = [\n",
    "    \"What is my\",\n",
    "    \"show me my\",\n",
    "    \"find\",\n",
    "    \"can you show me the\",\n",
    "    \"show\",\n",
    "    \"my\",\n",
    "    \"show me the\",\n",
    "    \"looking for my\",\n",
    "    \"Check\",\n",
    "    \"Remaining\",\n",
    "    \"I want to know\",\n",
    "    \"What is\",\n",
    "    \"get\",\n",
    "    \"Tell me\",\n",
    "    \"Where is your\"\n",
    "    \"What are the available\",\n",
    "]"
   ]
  },
  {
   "cell_type": "code",
   "execution_count": 500,
   "metadata": {},
   "outputs": [],
   "source": [
    "templates_info_banking = [\n",
    "    {\n",
    "        \"templates\": \"{find_close} {mask} {close} {find_what}\",\n",
    "        \"labels\": \"ask_for_info\",\n",
    "    },\n",
    "    {\n",
    "        \"templates\": \"{inform} {mask} {account_types} {pron:mask} {account_info_terms}\",\n",
    "        \"labels\": \"ask_for_info\",\n",
    "    },\n",
    "    {\n",
    "        \"templates\": \"{inform} {account_types} {account_info_terms}\",\n",
    "        \"labels\": \"ask_for_info\",\n",
    "    },\n",
    "    {\"templates\": \"{inform} {cards} {debt_info_terms}\", \"labels\": \"ask_for_info\"},\n",
    "    {\"templates\": \"{loan_types} {debt_synonyms}\", \"labels\": \"ask_for_info\"},\n",
    "    {\"templates\": \"{action} {card_brands} {cards}\", \"labels\": \"{action}\"},\n",
    "    {\n",
    "        \"templates\": \"How {verb:mask} {qualifiers} {action} {pron:mask} {card_brands} {cards}\",\n",
    "        \"labels\": \"action\",\n",
    "    },\n",
    "    {\"templates\": \"{action} {account_types} account\", \"labels\": \"action\"},\n",
    "    {\"templates\": \"{mask} {mask} open {account_types} account\", \"labels\": \"open\"},\n",
    "    {\n",
    "        \"templates\": \"{account_types} account {account_info_terms}\",\n",
    "        \"labels\": \"ask_for_info\",\n",
    "    },\n",
    "]"
   ]
  },
  {
   "cell_type": "code",
   "execution_count": 501,
   "metadata": {},
   "outputs": [
    {
     "data": {
      "text/plain": [
       "(['Where is your cash deposit machine',\n",
       "  'Where is your cash withdraw machine',\n",
       "  'Where is your branch',\n",
       "  'Where is your cash deposit machine',\n",
       "  'Where is your ATM',\n",
       "  'Where is your loan agent',\n",
       "  'Where is your branches',\n",
       "  'Where is your ATM',\n",
       "  'Where is your cash deposit machine',\n",
       "  'Where is your branches',\n",
       "  'Where is your ccdm',\n",
       "  'Where is your ccdm',\n",
       "  'Where is your cash withdraw machine',\n",
       "  'Where is your cash withdrawal',\n",
       "  'Where is your loan agent'],\n",
       " [{'find_what': 'cash deposit machine'},\n",
       "  {'find_what': 'cash withdraw machine'},\n",
       "  {'find_what': 'branch'},\n",
       "  {'find_what': 'cash deposit machine'},\n",
       "  {'find_what': 'ATM'},\n",
       "  {'find_what': 'loan agent'},\n",
       "  {'find_what': 'branches'},\n",
       "  {'find_what': 'ATM'},\n",
       "  {'find_what': 'cash deposit machine'},\n",
       "  {'find_what': 'branches'},\n",
       "  {'find_what': 'ccdm'},\n",
       "  {'find_what': 'ccdm'},\n",
       "  {'find_what': 'cash withdraw machine'},\n",
       "  {'find_what': 'cash withdrawal'},\n",
       "  {'find_what': 'loan agent'}],\n",
       " ['ask_for_info',\n",
       "  'ask_for_info',\n",
       "  'ask_for_info',\n",
       "  'ask_for_info',\n",
       "  'ask_for_info',\n",
       "  'ask_for_info',\n",
       "  'ask_for_info',\n",
       "  'ask_for_info',\n",
       "  'ask_for_info',\n",
       "  'ask_for_info',\n",
       "  'ask_for_info',\n",
       "  'ask_for_info',\n",
       "  'ask_for_info',\n",
       "  'ask_for_info',\n",
       "  'ask_for_info'])"
      ]
     },
     "execution_count": 501,
     "metadata": {},
     "output_type": "execute_result"
    }
   ],
   "source": [
    "def get_banking_generations(template, nsamples=10):\n",
    "    return editor.template(\n",
    "        **template,\n",
    "        account_types=account_types,\n",
    "        qualifiers=qualifiers,\n",
    "        loan_types=loan_types,\n",
    "        debt_synonyms=debt_synonyms,\n",
    "        close=close,\n",
    "        action=action,\n",
    "        card_brands=card_brands,\n",
    "        cards=cards,\n",
    "        find_close=find_close,\n",
    "        inform=inform,\n",
    "        find_what=find_what,\n",
    "        debt_info_terms=debt_info_terms,\n",
    "        account_info_terms=account_info_terms,\n",
    "        remove_duplicates=True,\n",
    "        nsamples=nsamples,\n",
    "        meta=True,\n",
    "    )\n",
    "\n",
    "\n",
    "filled_in_info = get_banking_generations(templates_info_banking[-1], nsamples=15)\n",
    "filled_in_info.data, filled_in_info.meta, filled_in_info.labels"
   ]
  },
  {
   "cell_type": "code",
   "execution_count": 497,
   "metadata": {},
   "outputs": [],
   "source": [
    "import checklist\n",
    "from checklist.editor import Editor\n",
    "from checklist.perturb import Perturb\n",
    "from checklist.test_types import MFT, INV, DIR\n",
    "editor = Editor()\n",
    "\n",
    "dataset = ['This was a very nice movie directed by John Smith.',\n",
    "           'Mary Keen was brilliant.',\n",
    "          'I hated everything about this.',\n",
    "          'This movie was very bad.',\n",
    "          'I really liked this movie.',\n",
    "          'just bad.',\n",
    "          'amazing.',\n",
    "          ]\n",
    "t = Perturb.perturb(dataset, Perturb.add_typos)\n",
    "test2 = INV(**t)"
   ]
  },
  {
   "cell_type": "code",
   "execution_count": null,
   "metadata": {},
   "outputs": [],
   "source": []
  }
 ],
 "metadata": {
  "kernelspec": {
   "display_name": "Python 3",
   "language": "python",
   "name": "python3"
  },
  "language_info": {
   "codemirror_mode": {
    "name": "ipython",
    "version": 3
   },
   "file_extension": ".py",
   "mimetype": "text/x-python",
   "name": "python",
   "nbconvert_exporter": "python",
   "pygments_lexer": "ipython3",
   "version": "3.7.9"
  }
 },
 "nbformat": 4,
 "nbformat_minor": 4
}
