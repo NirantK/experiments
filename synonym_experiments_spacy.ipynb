{
 "cells": [
  {
   "cell_type": "code",
   "execution_count": 1,
   "metadata": {},
   "outputs": [],
   "source": [
    "import spacy\n",
    "import json"
   ]
  },
  {
   "cell_type": "code",
   "execution_count": 2,
   "metadata": {},
   "outputs": [],
   "source": [
    "# !python -m spacy download en_core_web_lg"
   ]
  },
  {
   "cell_type": "code",
   "execution_count": 3,
   "metadata": {},
   "outputs": [],
   "source": [
    "nlp = spacy.load(\"en_core_web_lg\")"
   ]
  },
  {
   "cell_type": "code",
   "execution_count": 4,
   "metadata": {},
   "outputs": [
    {
     "data": {
      "text/plain": [
       "37"
      ]
     },
     "execution_count": 4,
     "metadata": {},
     "output_type": "execute_result"
    }
   ],
   "source": [
    "nlp.vocab[u'dog'].cluster"
   ]
  },
  {
   "cell_type": "code",
   "execution_count": 5,
   "metadata": {},
   "outputs": [],
   "source": [
    "def most_similar(word):\n",
    "    queries = [w for w in word.vocab if w.is_lower == word.is_lower and w.prob >= -15]\n",
    "    by_similarity = sorted(queries, key=lambda w: word.similarity(w), reverse=True)\n",
    "    c_val = word.cluster\n",
    "    words = [(w.lower_, w.cluster, str(word.similarity(w))) for w in by_similarity if abs(w.cluster - c_val)<=180 and word.similarity(w) >= 0.45]\n",
    "    return words[1:7]"
   ]
  },
  {
   "cell_type": "code",
   "execution_count": 6,
   "metadata": {},
   "outputs": [],
   "source": [
    "interesting_words = [\"order\", \"price\", \"cancel\", \"refund\", \"late\"]"
   ]
  },
  {
   "cell_type": "code",
   "execution_count": 7,
   "metadata": {
    "scrolled": false
   },
   "outputs": [
    {
     "name": "stdout",
     "output_type": "stream",
     "text": [
      "Query: order \n",
      "Most Similar words:[\n",
      "  [\n",
      "    \"must\",\n",
      "    698,\n",
      "    \"0.5772738\"\n",
      "  ],\n",
      "  [\n",
      "    \"should\",\n",
      "    698,\n",
      "    \"0.57494676\"\n",
      "  ],\n",
      "  [\n",
      "    \"same\",\n",
      "    991,\n",
      "    \"0.54238915\"\n",
      "  ],\n",
      "  [\n",
      "    \"certain\",\n",
      "    695,\n",
      "    \"0.54141617\"\n",
      "  ],\n",
      "  [\n",
      "    \"reasonable\",\n",
      "    807,\n",
      "    \"0.52108413\"\n",
      "  ],\n",
      "  [\n",
      "    \"could\",\n",
      "    954,\n",
      "    \"0.5166875\"\n",
      "  ]\n",
      "]\n",
      "------\n",
      "Query: price \n",
      "Most Similar words:[\n",
      "  [\n",
      "    \"costs\",\n",
      "    3981,\n",
      "    \"0.6166139\"\n",
      "  ],\n",
      "  [\n",
      "    \"comparison\",\n",
      "    3941,\n",
      "    \"0.4989325\"\n",
      "  ]\n",
      "]\n",
      "------\n",
      "Query: cancel \n",
      "Most Similar words:[\n",
      "  [\n",
      "    \"refund\",\n",
      "    693,\n",
      "    \"0.6145033\"\n",
      "  ],\n",
      "  [\n",
      "    \"notice\",\n",
      "    613,\n",
      "    \"0.50162584\"\n",
      "  ],\n",
      "  [\n",
      "    \"deactivate\",\n",
      "    778,\n",
      "    \"0.5012885\"\n",
      "  ],\n",
      "  [\n",
      "    \"intend\",\n",
      "    906,\n",
      "    \"0.46688095\"\n",
      "  ],\n",
      "  [\n",
      "    \"order\",\n",
      "    837,\n",
      "    \"0.4640957\"\n",
      "  ],\n",
      "  [\n",
      "    \"modify\",\n",
      "    778,\n",
      "    \"0.45552033\"\n",
      "  ]\n",
      "]\n",
      "------\n",
      "Query: refund \n",
      "Most Similar words:[\n",
      "  [\n",
      "    \"cancel\",\n",
      "    778,\n",
      "    \"0.6145033\"\n",
      "  ],\n",
      "  [\n",
      "    \"guarantee\",\n",
      "    693,\n",
      "    \"0.55727386\"\n",
      "  ],\n",
      "  [\n",
      "    \"purchaser\",\n",
      "    789,\n",
      "    \"0.55233574\"\n",
      "  ],\n",
      "  [\n",
      "    \"repay\",\n",
      "    778,\n",
      "    \"0.5197839\"\n",
      "  ],\n",
      "  [\n",
      "    \"notice\",\n",
      "    613,\n",
      "    \"0.5137591\"\n",
      "  ],\n",
      "  [\n",
      "    \"cost\",\n",
      "    661,\n",
      "    \"0.46892223\"\n",
      "  ]\n",
      "]\n",
      "------\n",
      "Query: late \n",
      "Most Similar words:[\n",
      "  [\n",
      "    \"before\",\n",
      "    1492,\n",
      "    \"0.62982297\"\n",
      "  ],\n",
      "  [\n",
      "    \"arrived\",\n",
      "    1194,\n",
      "    \"0.5221005\"\n",
      "  ],\n",
      "  [\n",
      "    \"fall\",\n",
      "    1461,\n",
      "    \"0.5158871\"\n",
      "  ],\n",
      "  [\n",
      "    \"died\",\n",
      "    1194,\n",
      "    \"0.49443513\"\n",
      "  ],\n",
      "  [\n",
      "    \"waited\",\n",
      "    1194,\n",
      "    \"0.46939516\"\n",
      "  ],\n",
      "  [\n",
      "    \"emerged\",\n",
      "    1194,\n",
      "    \"0.46458787\"\n",
      "  ]\n",
      "]\n",
      "------\n"
     ]
    }
   ],
   "source": [
    "for w in interesting_words:\n",
    "    most_sim_words = most_similar(nlp.vocab[w])\n",
    "    print(f\"Query: {w}\", f\"\\nMost Similar words:{json.dumps(most_sim_words, indent=2)}\")\n",
    "    print(\"------\")"
   ]
  },
  {
   "cell_type": "code",
   "execution_count": null,
   "metadata": {},
   "outputs": [],
   "source": []
  }
 ],
 "metadata": {
  "kernelspec": {
   "display_name": "Python 3",
   "language": "python",
   "name": "python3"
  },
  "language_info": {
   "codemirror_mode": {
    "name": "ipython",
    "version": 3
   },
   "file_extension": ".py",
   "mimetype": "text/x-python",
   "name": "python",
   "nbconvert_exporter": "python",
   "pygments_lexer": "ipython3",
   "version": "3.7.4"
  }
 },
 "nbformat": 4,
 "nbformat_minor": 2
}
